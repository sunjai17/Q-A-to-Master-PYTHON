{
 "cells": [
  {
   "cell_type": "markdown",
   "id": "22c634cb-1f41-4644-8d99-155e8ad3c8e5",
   "metadata": {},
   "source": [
    "# 1.What are the two values of the Boolean data type? How do you write them?"
   ]
  },
  {
   "cell_type": "markdown",
   "id": "2923cd29-5dfc-410a-bef8-6a45f7aec489",
   "metadata": {},
   "source": [
    "# ANSWER:\n",
    "### The Boolean data type has two possible values: True and False. In programming languages, these values are often used to represent truth or falsity in logical expressions. In Python, for example, you would write them as follows:"
   ]
  },
  {
   "cell_type": "code",
   "execution_count": 1,
   "id": "f47d2b9f-373b-4b40-bbcc-870fe98649d0",
   "metadata": {},
   "outputs": [],
   "source": [
    "my_variable = True\n",
    "another_variable = False\n"
   ]
  },
  {
   "cell_type": "markdown",
   "id": "8182e3df-f6d1-40fd-8f98-46375c94ffd5",
   "metadata": {},
   "source": [
    "# 2. What are the three different types of Boolean operators?"
   ]
  },
  {
   "cell_type": "markdown",
   "id": "d7565652-5040-493e-8036-c2ab892ee744",
   "metadata": {},
   "source": [
    "# ANSWER:\n",
    "### AND OR NOT are the three different types of Boolean operators"
   ]
  },
  {
   "cell_type": "markdown",
   "id": "0b76846e-b262-47fa-ab86-d6f6ae61aac4",
   "metadata": {},
   "source": [
    "# 3. Make a list of each Boolean operator's truth tables (i.e. every possible combination of Boolean values for the operator and what it evaluate).."
   ]
  },
  {
   "cell_type": "markdown",
   "id": "e442f3e1-f0d8-4403-a54d-f5a1ce0a0578",
   "metadata": {},
   "source": [
    "# ANSWER:"
   ]
  },
  {
   "cell_type": "code",
   "execution_count": 2,
   "id": "035c8b3f-1b75-404e-a310-718715fc0dbb",
   "metadata": {},
   "outputs": [
    {
     "name": "stdout",
     "output_type": "stream",
     "text": [
      "Collecting tabulate\n",
      "  Downloading tabulate-0.9.0-py3-none-any.whl (35 kB)\n",
      "Installing collected packages: tabulate\n",
      "Successfully installed tabulate-0.9.0\n"
     ]
    }
   ],
   "source": [
    "!pip install tabulate"
   ]
  },
  {
   "cell_type": "code",
   "execution_count": 3,
   "id": "839707d2-8be6-4ab1-aaf3-ef03a1085d4f",
   "metadata": {},
   "outputs": [
    {
     "name": "stdout",
     "output_type": "stream",
     "text": [
      "AND Operator (Logical AND) Truth Table:\n",
      "╒═══════╤═══════╤═══════════╕\n",
      "│ A     │ B     │ A AND B   │\n",
      "╞═══════╪═══════╪═══════════╡\n",
      "│ True  │ True  │ True      │\n",
      "├───────┼───────┼───────────┤\n",
      "│ True  │ False │ False     │\n",
      "├───────┼───────┼───────────┤\n",
      "│ False │ True  │ False     │\n",
      "├───────┼───────┼───────────┤\n",
      "│ False │ False │ False     │\n",
      "╘═══════╧═══════╧═══════════╛\n",
      "\n",
      "OR Operator (Logical OR) Truth Table:\n",
      "╒═══════╤═══════╤══════════╕\n",
      "│ A     │ B     │ A OR B   │\n",
      "╞═══════╪═══════╪══════════╡\n",
      "│ True  │ True  │ True     │\n",
      "├───────┼───────┼──────────┤\n",
      "│ True  │ False │ True     │\n",
      "├───────┼───────┼──────────┤\n",
      "│ False │ True  │ True     │\n",
      "├───────┼───────┼──────────┤\n",
      "│ False │ False │ False    │\n",
      "╘═══════╧═══════╧══════════╛\n",
      "\n",
      "NOT Operator (Logical NOT) Truth Table:\n",
      "╒═══════╤═════════╕\n",
      "│ A     │ NOT A   │\n",
      "╞═══════╪═════════╡\n",
      "│ True  │ False   │\n",
      "├───────┼─────────┤\n",
      "│ False │ True    │\n",
      "╘═══════╧═════════╛\n"
     ]
    }
   ],
   "source": [
    "from tabulate import tabulate\n",
    "\n",
    "# AND Operator (Logical AND) Truth Table\n",
    "and_truth_table = [\n",
    "    [True, True, True],\n",
    "    [True, False, False],\n",
    "    [False, True, False],\n",
    "    [False, False, False]\n",
    "]\n",
    "\n",
    "# OR Operator (Logical OR) Truth Table\n",
    "or_truth_table = [\n",
    "    [True, True, True],\n",
    "    [True, False, True],\n",
    "    [False, True, True],\n",
    "    [False, False, False]\n",
    "]\n",
    "\n",
    "# NOT Operator (Logical NOT) Truth Table\n",
    "not_truth_table = [\n",
    "    [True, False],\n",
    "    [False, True]\n",
    "]\n",
    "\n",
    "# Print Truth Tables using Box Representation\n",
    "print(\"AND Operator (Logical AND) Truth Table:\")\n",
    "print(tabulate(and_truth_table, headers=[\"A\", \"B\", \"A AND B\"], tablefmt=\"fancy_grid\"))\n",
    "print(\"\\nOR Operator (Logical OR) Truth Table:\")\n",
    "print(tabulate(or_truth_table, headers=[\"A\", \"B\", \"A OR B\"], tablefmt=\"fancy_grid\"))\n",
    "print(\"\\nNOT Operator (Logical NOT) Truth Table:\")\n",
    "print(tabulate(not_truth_table, headers=[\"A\", \"NOT A\"], tablefmt=\"fancy_grid\"))\n"
   ]
  },
  {
   "cell_type": "markdown",
   "id": "4cd2e949-95c3-4135-ba3b-3622998910c9",
   "metadata": {},
   "source": [
    "# 4. What are the values of the following expressions? True)"
   ]
  },
  {
   "cell_type": "raw",
   "id": "4b1dde33-ad7e-49dc-8264-153fbda060c4",
   "metadata": {},
   "source": [
    "(5 &gt; 4) and (3 == 5)\n",
    "not (5 &gt; 4)\n",
    "(5 &gt; 4) or (3 == 5)\n",
    "not ((5 &gt; 4) or (3 == 5))\n",
    "(True and True) and (True == False)\n",
    "(not False) or (not True)"
   ]
  },
  {
   "cell_type": "raw",
   "id": "fa7dabb8-146d-49c2-bd44-cb31badda30f",
   "metadata": {},
   "source": [
    "(5 > 4) and (3 == 5)\n",
    "Result: True and False\n",
    "Final Result: False\n",
    "\n",
    "not (5 > 4)\n",
    "Result: not True\n",
    "Final Result: False\n",
    "\n",
    "(5 > 4) or (3 == 5)\n",
    "Result: True or False\n",
    "Final Result: True\n",
    "\n",
    "not ((5 > 4) or (3 == 5))\n",
    "Result: not (True or False)\n",
    "Final Result: False\n",
    "\n",
    "(True and True) and (True == False)\n",
    "Result: True and False\n",
    "Final Result: False\n",
    "\n",
    "(not False) or (not True)\n",
    "Result: True or False\n",
    "Final Result: True"
   ]
  },
  {
   "cell_type": "markdown",
   "id": "220a0529-bc75-46e3-bec4-ac3f2174184e",
   "metadata": {},
   "source": [
    "# 5. What are the six comparison operators?"
   ]
  },
  {
   "cell_type": "markdown",
   "id": "13738e17-4f06-42c6-ac18-f80590917794",
   "metadata": {},
   "source": [
    "# ANSWER:"
   ]
  },
  {
   "cell_type": "raw",
   "id": "e442fd0d-6b9e-4857-a397-88140f69e801",
   "metadata": {},
   "source": [
    "Equal to (==):\n",
    "\n",
    "Checks if the values of two operands are equal.\n",
    "Not equal to (!=):\n",
    "\n",
    "Checks if the values of two operands are not equal.\n",
    "Greater than (>):\n",
    "\n",
    "Checks if the value of the left operand is greater than the value of the right operand.\n",
    "Less than (<):\n",
    "\n",
    "Checks if the value of the left operand is less than the value of the right operand.\n",
    "Greater than or equal to (>=):\n",
    "\n",
    "Checks if the value of the left operand is greater than or equal to the value of the right operand.\n",
    "Less than or equal to (<=):\n",
    "\n",
    "Checks if the value of the left operand is less than or equal to the value of the right operand."
   ]
  },
  {
   "cell_type": "markdown",
   "id": "98d0e1e6-a8bd-41ae-af7b-b7f3d5f04274",
   "metadata": {},
   "source": [
    "# 6. How do you tell the difference between the equal to and assignment operators?Describe a condition and when you would use one."
   ]
  },
  {
   "cell_type": "raw",
   "id": "064d4880-b3f4-4e2e-90f1-a671ed559330",
   "metadata": {},
   "source": [
    "Equality Operator (==):\n",
    "\n",
    "The equality operator is used to compare two values for equality.\n",
    "Example: a == b checks if the value of variable a is equal to the value of variable b.\n",
    "This operator is commonly used in conditional statements to make decisions based on whether two values are equal."
   ]
  },
  {
   "cell_type": "raw",
   "id": "7b073d53-7cce-407d-9934-d092536dc6c3",
   "metadata": {},
   "source": [
    "Assignment Operator (=):\n",
    "\n",
    "The assignment operator is used to assign a value to a variable.\n",
    "Example: a = 10 assigns the value 10 to the variable a.\n",
    "This operator is used to store values in variables and update their contents.\n"
   ]
  },
  {
   "cell_type": "code",
   "execution_count": 5,
   "id": "cfe68bb9-0f48-4c4f-a2b3-b20d237c91b9",
   "metadata": {},
   "outputs": [
    {
     "name": "stdin",
     "output_type": "stream",
     "text": [
      "Enter the password:  sanjay\n"
     ]
    },
    {
     "name": "stdout",
     "output_type": "stream",
     "text": [
      "Access denied!\n"
     ]
    }
   ],
   "source": [
    "# condtional example\n",
    "# Predefined password\n",
    "correct_password = \"secret123\"\n",
    "\n",
    "# User input\n",
    "user_input = input(\"Enter the password: \")\n",
    "\n",
    "# Check if user input is equal to the correct password\n",
    "if user_input == correct_password:\n",
    "    print(\"Access granted!\")\n",
    "else:\n",
    "    print(\"Access denied!\")\n"
   ]
  },
  {
   "cell_type": "markdown",
   "id": "326659a9-24ea-4c62-b98b-9aed0ae65101",
   "metadata": {},
   "source": [
    "# 7. Identify the three blocks in this code:"
   ]
  },
  {
   "cell_type": "raw",
   "id": "1526d65e-6245-41c3-9751-98ebbba9d1aa",
   "metadata": {},
   "source": [
    "spam = 0\n",
    "if spam == 10:\n",
    "print(&#39;eggs&#39;)\n",
    "if spam &gt; 5:\n",
    "print(&#39;bacon&#39;)\n",
    "else:\n",
    "print(&#39;ham&#39;)\n",
    "print(&#39;spam&#39;)\n",
    "print(&#39;spam&#39;)"
   ]
  },
  {
   "cell_type": "code",
   "execution_count": 6,
   "id": "f5873877-f102-430a-8840-d5430034948b",
   "metadata": {},
   "outputs": [
    {
     "name": "stdout",
     "output_type": "stream",
     "text": [
      "ham\n",
      "spam\n",
      "spam\n"
     ]
    }
   ],
   "source": [
    "spam = 0  # Block 1\n",
    "\n",
    "if spam == 10:  # Block 2\n",
    "    print('eggs')\n",
    "\n",
    "if spam > 5:  # Block 3\n",
    "    print('bacon')\n",
    "else:  # This else belongs to the second if statement\n",
    "    print('ham')\n",
    "\n",
    "print('spam')  # This print statement is not part of any conditional block\n",
    "print('spam')  # This print statement is not part of any conditional block\n"
   ]
  },
  {
   "cell_type": "markdown",
   "id": "ae62238a-75b2-428c-8044-8669b62606c6",
   "metadata": {},
   "source": [
    "# 8. Write code that prints Hello if 1 is stored in spam, prints Howdy if 2 is stored in spam, and prints Greetings! if anything else is stored in spam."
   ]
  },
  {
   "cell_type": "markdown",
   "id": "fa182b53-3e2f-4951-b177-ed244c694b81",
   "metadata": {},
   "source": [
    "# ANSWER:"
   ]
  },
  {
   "cell_type": "code",
   "execution_count": 9,
   "id": "4eb367aa-99c1-4b8f-8dc8-ed042cb2d182",
   "metadata": {},
   "outputs": [
    {
     "name": "stdout",
     "output_type": "stream",
     "text": [
      "enter the digit\n"
     ]
    },
    {
     "name": "stdin",
     "output_type": "stream",
     "text": [
      "None 2\n"
     ]
    },
    {
     "name": "stdout",
     "output_type": "stream",
     "text": [
      "Greetings!\n"
     ]
    }
   ],
   "source": [
    "spam =  input(print(\"enter the digit\"))\n",
    "\n",
    "if spam == 1:\n",
    "    print(\"Hello\")\n",
    "elif spam == 2:\n",
    "    print(\"Howdy\")\n",
    "else:\n",
    "    print(\"Greetings!\")\n"
   ]
  },
  {
   "cell_type": "markdown",
   "id": "70e94dab-b1d6-4abd-a118-8131b2c0624a",
   "metadata": {},
   "source": [
    "# 9.If your programme is stuck in an endless loop, what keys you’ll press?"
   ]
  },
  {
   "cell_type": "markdown",
   "id": "b6fef2ab-2370-4451-b72a-6b7600ec17e6",
   "metadata": {},
   "source": [
    "# ANSWER:\n",
    "### 1. ctrl+c\n",
    "### 2. ctrl+Break\n",
    "### 3. ctrl+\\ "
   ]
  },
  {
   "cell_type": "markdown",
   "id": "d6ea0b37-bad8-496f-bcbc-510d7957dcd6",
   "metadata": {},
   "source": [
    "# 10. How can you tell the difference between break and continue?"
   ]
  },
  {
   "cell_type": "markdown",
   "id": "2a81a90d-4ed9-4b01-b8bd-5be8e0bb2160",
   "metadata": {},
   "source": [
    "# ANSWER:"
   ]
  },
  {
   "cell_type": "raw",
   "id": "f15123e9-610d-4e11-b0d4-b7be90902568",
   "metadata": {},
   "source": [
    "break Statement:\n",
    "\n",
    "The break statement is used to terminate the entire loop prematurely.\n",
    "When encountered, it immediately exits the loop, and the program continues with the next statement after the loop.\n",
    "break is often used when a certain condition is met, and you want to exit the loop early.\n",
    "\n",
    "continue Statement:\n",
    "\n",
    "The continue statement is used to skip the rest of the code inside the loop for the current iteration.\n",
    "When encountered, it skips the remaining statements in the loop and moves to the next iteration.\n",
    "continue is typically used when you want to skip certain iterations based on a specific condition."
   ]
  },
  {
   "cell_type": "markdown",
   "id": "88e9950f-19a4-4ac4-b025-769634a4f34e",
   "metadata": {},
   "source": [
    "# 11. In a for loop, what is the difference between range(10), range(0, 10), and range(0, 10, 1)?"
   ]
  },
  {
   "cell_type": "markdown",
   "id": "bf18e16f-17cd-4e72-aee5-e5d4de08ea5e",
   "metadata": {},
   "source": [
    "# ANSWER:\n"
   ]
  },
  {
   "cell_type": "raw",
   "id": "d57fc56d-d035-45d1-920d-3307c4ab1c7e",
   "metadata": {},
   "source": [
    "range(10):\n",
    "\n",
    "This expression generates a sequence of numbers from 0 to 9 (10 is excluded) with a default step size of 1.\n",
    "It is a shorthand notation that omits the starting value and step size, using their defaults."
   ]
  },
  {
   "cell_type": "raw",
   "id": "ac9db609-e501-4dde-887e-41bda797fea9",
   "metadata": {},
   "source": [
    "range(0, 10):\n",
    "\n",
    "This expression explicitly specifies the starting value as 0 and the ending value as 9 (10 is excluded), with the default step size of 1."
   ]
  },
  {
   "cell_type": "raw",
   "id": "d4ee1860-0314-4543-81fd-502cf8028720",
   "metadata": {},
   "source": [
    "range(0, 10, 1):\n",
    "\n",
    "This expression is similar to range(0, 10) but explicitly specifies a step size of 1. However, the step size of 1 is the default, so including it is redundant."
   ]
  },
  {
   "cell_type": "markdown",
   "id": "61993d57-4f6b-486c-ba4f-3a432ad44b1e",
   "metadata": {},
   "source": [
    "# 12. Write a short program that prints the numbers 1 to 10 using a for loop. Then write an equivalent program that prints the numbers 1 to 10 using a while loop."
   ]
  },
  {
   "cell_type": "code",
   "execution_count": 11,
   "id": "8028dd69-8cf5-44bc-ac52-f1a1efb7e318",
   "metadata": {},
   "outputs": [
    {
     "name": "stdout",
     "output_type": "stream",
     "text": [
      "1\n",
      "2\n",
      "3\n",
      "4\n",
      "5\n",
      "6\n",
      "7\n",
      "8\n",
      "9\n",
      "10\n"
     ]
    }
   ],
   "source": [
    "# Using a for loop\n",
    "for i in range(1, 11):\n",
    "    print(i)\n"
   ]
  },
  {
   "cell_type": "code",
   "execution_count": 12,
   "id": "ff1a5f45-941e-412c-a31d-f33787a3a684",
   "metadata": {},
   "outputs": [
    {
     "name": "stdout",
     "output_type": "stream",
     "text": [
      "1\n",
      "2\n",
      "3\n",
      "4\n",
      "5\n",
      "6\n",
      "7\n",
      "8\n",
      "9\n",
      "10\n"
     ]
    }
   ],
   "source": [
    "# Using a while loop\n",
    "counter = 1\n",
    "while counter <= 10:\n",
    "    print(counter)\n",
    "    counter += 1\n"
   ]
  },
  {
   "cell_type": "markdown",
   "id": "0b7ed971-32ae-4a65-9e82-aef64f225af1",
   "metadata": {},
   "source": [
    "# 13. If you had a function named bacon() inside a module named spam, how would you call it after importing spam?"
   ]
  },
  {
   "cell_type": "raw",
   "id": "6655900f-459d-4f74-876a-813bbf0fc876",
   "metadata": {},
   "source": [
    "Assuming that the bacon() function is defined within the spam module, you use dot notation to access and call the function. The syntax is module_name.function_name(), where module_name is the name of the module and function_name is the name of the function you want to call"
   ]
  },
  {
   "cell_type": "code",
   "execution_count": null,
   "id": "76f84a05-b9c9-460d-8bc6-56b69dbd34f7",
   "metadata": {},
   "outputs": [],
   "source": []
  }
 ],
 "metadata": {
  "kernelspec": {
   "display_name": "Python 3 (ipykernel)",
   "language": "python",
   "name": "python3"
  },
  "language_info": {
   "codemirror_mode": {
    "name": "ipython",
    "version": 3
   },
   "file_extension": ".py",
   "mimetype": "text/x-python",
   "name": "python",
   "nbconvert_exporter": "python",
   "pygments_lexer": "ipython3",
   "version": "3.12.0"
  }
 },
 "nbformat": 4,
 "nbformat_minor": 5
}
