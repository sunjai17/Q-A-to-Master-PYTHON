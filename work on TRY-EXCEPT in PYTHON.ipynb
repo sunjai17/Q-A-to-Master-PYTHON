{
 "cells": [
  {
   "cell_type": "markdown",
   "id": "808c7070-0947-417a-9b8f-d58daf92ea9c",
   "metadata": {},
   "source": [
    "# 1. What is the role of try and exception block?"
   ]
  },
  {
   "cell_type": "markdown",
   "id": "60f95cf5-0a3c-42d9-87b5-0727435d872e",
   "metadata": {},
   "source": [
    "# answer 1."
   ]
  },
  {
   "cell_type": "markdown",
   "id": "6796d0e3-1f82-4ca8-9b53-b7ce2c191930",
   "metadata": {},
   "source": [
    "### try :- the code within the try block contains the statement that potentially raises the exception. It allows you to specify the code that you want to monitar for exception"
   ]
  },
  {
   "cell_type": "markdown",
   "id": "4bc9b918-bff6-4457-93fd-4330acfc856f",
   "metadata": {},
   "source": [
    "### exception :- I an exception occurs in the try block ,then the corresponding exception is executed.the except block helps you to define a sepcific code that should be excuted with a specific exception is raised. you can have multiple except block to handle different type of exception"
   ]
  },
  {
   "cell_type": "markdown",
   "id": "6636c629-d8d7-4113-94cb-d47176467a3d",
   "metadata": {},
   "source": [
    "# 2. What is the syntax for a basic try-except block?"
   ]
  },
  {
   "cell_type": "markdown",
   "id": "8d88e82d-ca58-422b-ae56-7c56dc97eff6",
   "metadata": {},
   "source": [
    "# answer 2."
   ]
  },
  {
   "cell_type": "markdown",
   "id": "349fd56e-0b39-439f-aa57-066c87534dd2",
   "metadata": {},
   "source": [
    "#### the code try-except is used for exception handeling ,the syntax is as follows"
   ]
  },
  {
   "cell_type": "code",
   "execution_count": null,
   "id": "aab088b7-a5ea-4d9c-abdb-a6da987c4ea1",
   "metadata": {},
   "outputs": [],
   "source": [
    "#syntax of try-except \n",
    "try:\n",
    "    #code that may rasie exception\n",
    "except ExceptionType as e:\n",
    "    #code that handles exception\n",
    "else:\n",
    "    #code to be executed if no exception is rasied \n",
    "finally:\n",
    "    #code that will be executed whether there is exception is present or not"
   ]
  },
  {
   "cell_type": "markdown",
   "id": "0f36c734-f127-4e3a-8d37-46ac2da79ff0",
   "metadata": {},
   "source": [
    "# example:-"
   ]
  },
  {
   "cell_type": "code",
   "execution_count": 7,
   "id": "cd5ed9f1-b00d-45d6-b844-5e45549a462e",
   "metadata": {},
   "outputs": [
    {
     "name": "stdin",
     "output_type": "stream",
     "text": [
      "enter the integer 4\n",
      "enter the integer 0\n"
     ]
    },
    {
     "name": "stdout",
     "output_type": "stream",
     "text": [
      "as the denominator is zero we can not execute the code\n",
      "hence the answer\n"
     ]
    }
   ],
   "source": [
    "try:\n",
    "    num1=int(input(\"enter the integer\"))\n",
    "    num2=int(input(\"enter the integer\"))\n",
    "    result=(num1/num2)\n",
    "except ZeroDivisionError:\n",
    "    print(\"as the denominator is zero we can not execute the code\")\n",
    "else :\n",
    "    print(\"the division of \",num1,\"&\",num2,\"is\",result)\n",
    "finally:\n",
    "    print(\"hence the answer\")"
   ]
  },
  {
   "cell_type": "markdown",
   "id": "e447d7ad-8fbc-40c8-b815-8ff035cb4bb5",
   "metadata": {},
   "source": [
    "# 3. What happens if an exception occurs inside a try block and there is no matching except block?"
   ]
  },
  {
   "cell_type": "markdown",
   "id": "a1a69456-673e-4422-8b61-5c7dc22f0fbd",
   "metadata": {},
   "source": [
    "# answer 3."
   ]
  },
  {
   "cell_type": "markdown",
   "id": "e62cd117-73af-4179-bd14-01e1a94bbc82",
   "metadata": {},
   "source": [
    "#### if an exception occurs inside a try block and there is no matching except block ,then the programm will be terminated and an error occurs which contains the specific error type which should be actually present in the except block "
   ]
  },
  {
   "cell_type": "markdown",
   "id": "d47d1b88-b13b-4c03-a663-9ebea146885c",
   "metadata": {},
   "source": [
    "## example:-"
   ]
  },
  {
   "cell_type": "code",
   "execution_count": 10,
   "id": "999ee06e-4b73-4cce-92db-85b213b748cf",
   "metadata": {},
   "outputs": [
    {
     "ename": "IndexError",
     "evalue": "list index out of range",
     "output_type": "error",
     "traceback": [
      "\u001b[1;31m---------------------------------------------------------------------------\u001b[0m",
      "\u001b[1;31mIndexError\u001b[0m                                Traceback (most recent call last)",
      "Cell \u001b[1;32mIn[10], line 3\u001b[0m\n\u001b[0;32m      1\u001b[0m \u001b[38;5;28;01mtry\u001b[39;00m:\n\u001b[0;32m      2\u001b[0m     list1\u001b[38;5;241m=\u001b[39m[\u001b[38;5;241m1\u001b[39m,\u001b[38;5;241m2\u001b[39m,\u001b[38;5;241m3\u001b[39m,\u001b[38;5;241m4\u001b[39m]\n\u001b[1;32m----> 3\u001b[0m     \u001b[38;5;28mprint\u001b[39m(\u001b[43mlist1\u001b[49m\u001b[43m[\u001b[49m\u001b[38;5;241;43m4\u001b[39;49m\u001b[43m]\u001b[49m)\n\u001b[0;32m      4\u001b[0m \u001b[38;5;28;01mexcept\u001b[39;00m \u001b[38;5;167;01mTypeError\u001b[39;00m:\n\u001b[0;32m      5\u001b[0m     \u001b[38;5;28mprint\u001b[39m(\u001b[38;5;124m\"\u001b[39m\u001b[38;5;124mthere is a error in type of the list\u001b[39m\u001b[38;5;124m\"\u001b[39m)\n",
      "\u001b[1;31mIndexError\u001b[0m: list index out of range"
     ]
    }
   ],
   "source": [
    "try:\n",
    "    list1=[1,2,3,4]\n",
    "    print(list1[4])\n",
    "except TypeError:\n",
    "    print(\"there is a error in type of the list\")\n",
    "else:\n",
    "    print(\"the asnwer is:\",list1[4])\n",
    "    "
   ]
  },
  {
   "cell_type": "markdown",
   "id": "a28a3d12-dceb-490b-baf5-cb7eec8095f4",
   "metadata": {},
   "source": [
    "### the above example shows us there is a IndexError present in the except but not TypeError which we executed"
   ]
  },
  {
   "cell_type": "markdown",
   "id": "c530ff1b-38e4-4500-aa57-6c61320026f7",
   "metadata": {},
   "source": [
    "# 4. What is the difference between using a bare except block and specifying a specific exception type?"
   ]
  },
  {
   "cell_type": "markdown",
   "id": "9cda7d49-70e3-4fe4-baec-b4f83c25f543",
   "metadata": {},
   "source": [
    "# answer 4."
   ]
  },
  {
   "cell_type": "markdown",
   "id": "c45a89eb-70f9-4357-9dd2-9d4f27149047",
   "metadata": {},
   "source": [
    "#### In python , while using 'try'-'except' method we get two types of exception\n",
    "#### 1. specific exception type"
   ]
  },
  {
   "cell_type": "code",
   "execution_count": null,
   "id": "2a15d238-c4d3-4e71-8773-6d68fdb21e97",
   "metadata": {},
   "outputs": [],
   "source": [
    "try: \n",
    "    #code that may rasie a exception\n",
    "except SpecificException as e:\n",
    "    #code which deals the specific exception"
   ]
  },
  {
   "cell_type": "markdown",
   "id": "112a0caa-0e6c-4b0b-bdb6-ed9c1711a0cd",
   "metadata": {},
   "source": [
    "#### in this case the except will catch only SpecificException or its subclass,this approach is more precise and allow you to handle different exception in different ways"
   ]
  },
  {
   "cell_type": "markdown",
   "id": "9f54301f-ba1f-4c0a-a444-be37c8274316",
   "metadata": {},
   "source": [
    "### 2.bare except block"
   ]
  },
  {
   "cell_type": "code",
   "execution_count": null,
   "id": "d983dbca-fc7d-4328-a0a9-1aa25884eb4e",
   "metadata": {},
   "outputs": [],
   "source": [
    "try:\n",
    "    #code that may raise exception\n",
    "except:\n",
    "    # code which deals with any type of exception which is present"
   ]
  },
  {
   "cell_type": "markdown",
   "id": "574be1b4-385a-415b-b1bd-3ec733e6f0cb",
   "metadata": {},
   "source": [
    "#### in this case the except block will catch any kind of exception regardless of its type ,the useage of bare except block is discoraged useless you have a goal to catch an unknown or all the exception"
   ]
  },
  {
   "cell_type": "markdown",
   "id": "07730223-7af7-4cdd-be5d-9cc24f20ae66",
   "metadata": {},
   "source": [
    "# 5. Can you have nested try-except blocks in Python? If yes, then give an example."
   ]
  },
  {
   "cell_type": "markdown",
   "id": "4683e0dd-4d86-4f89-bc9c-a957556f7f3c",
   "metadata": {},
   "source": [
    "# answer 5."
   ]
  },
  {
   "cell_type": "markdown",
   "id": "1f89769a-28b9-48e3-a2ae-94fcd6dfbd30",
   "metadata": {},
   "source": [
    "### yes you can have nested try-except blocks in python , this means you can have a \"try\" block inside another \"try\" block, and each try block can have its own except type "
   ]
  },
  {
   "cell_type": "code",
   "execution_count": 13,
   "id": "b38b46d5-7ffc-4a33-83f9-6f78db524048",
   "metadata": {},
   "outputs": [
    {
     "name": "stdin",
     "output_type": "stream",
     "text": [
      "enter the numerator 4\n",
      "enter the denominator 0\n"
     ]
    },
    {
     "name": "stdout",
     "output_type": "stream",
     "text": [
      "the denominator is zero\n",
      "the answer is  2.0\n",
      "the code is excuted\n"
     ]
    }
   ],
   "source": [
    "try:\n",
    "    #outer try block\n",
    "    num3=int(input(\"enter the numerator\"))\n",
    "    num4=int(input(\"enter the denominator\"))\n",
    "    try:\n",
    "        result=num3/num4\n",
    "    except ZeroDivisionError:\n",
    "        print(\"the denominator is zero\")\n",
    "except:\n",
    "    print(\"the entered value is not an integer\")\n",
    "else:\n",
    "    print(\"the answer is \",result)\n",
    "finally:\n",
    "    print(\"the code is excuted\")"
   ]
  },
  {
   "cell_type": "markdown",
   "id": "ca8f8573-548c-455d-a652-28157865d96f",
   "metadata": {},
   "source": [
    "# 6. Can we use multiple exception blocks, if yes then give an example."
   ]
  },
  {
   "cell_type": "markdown",
   "id": "a6a0ad2a-d96b-4e8d-ae46-9a105028c386",
   "metadata": {},
   "source": [
    "# answer 6."
   ]
  },
  {
   "cell_type": "markdown",
   "id": "a8343938-d2c7-49aa-8fae-834d644c805f",
   "metadata": {},
   "source": [
    "### yes , we can use multiple exception blocks in a single try ,"
   ]
  },
  {
   "cell_type": "markdown",
   "id": "e37c96f3-d665-47d9-b154-be7edc60b033",
   "metadata": {},
   "source": [
    "# example :-"
   ]
  },
  {
   "cell_type": "code",
   "execution_count": 28,
   "id": "ac807aae-c324-45b2-8cc9-b85fc0d78341",
   "metadata": {},
   "outputs": [
    {
     "name": "stdout",
     "output_type": "stream",
     "text": [
      "the denominator is zero\n",
      "the code is excuted\n"
     ]
    }
   ],
   "source": [
    "try:\n",
    "    #which may raise one or more exception \n",
    "    result= 10/0 # which raises ZeroDivisionError\n",
    "    value= int('a') # which raises ValueError\n",
    "except ZeroDivisionError:\n",
    "    print(\"the denominator is zero\")\n",
    "except ValueError:\n",
    "    print(\"the entered value is not an integer\")\n",
    "else :\n",
    "    print(\"no error\")\n",
    "finally:\n",
    "    print(\"the code is excuted\")"
   ]
  },
  {
   "cell_type": "markdown",
   "id": "63da8a2b-8baf-4dcb-9438-62b18ed528ca",
   "metadata": {},
   "source": [
    "# 7. Write the reason due to which following errors are raised:"
   ]
  },
  {
   "cell_type": "markdown",
   "id": "ae731826-155d-4879-9fb1-290108197270",
   "metadata": {},
   "source": [
    "## a. EOFError\n"
   ]
  },
  {
   "cell_type": "markdown",
   "id": "7ad65d72-dd6d-4562-8f4b-9e82d74ca284",
   "metadata": {},
   "source": [
    "### raised when the input() hits an end of file condition without reading any data,it typically occurs when the user press ctrl+D or ctrl+Z to signal the end of input"
   ]
  },
  {
   "cell_type": "markdown",
   "id": "a2cdc81a-de2a-4e46-9854-a00cba98632e",
   "metadata": {},
   "source": [
    "# b. FloatingPointError"
   ]
  },
  {
   "cell_type": "markdown",
   "id": "994bf07a-f833-4a93-ad47-d34c9e2ed108",
   "metadata": {},
   "source": [
    "### raised when an floating point operation fails. this can happen during division by error or other operations that results in an undefined or infinite results"
   ]
  },
  {
   "cell_type": "markdown",
   "id": "dbc716ef-4487-481d-ba0d-e630a8d66851",
   "metadata": {},
   "source": [
    "# c. IndexError"
   ]
  },
  {
   "cell_type": "markdown",
   "id": "6609e193-5f6b-4572-94a1-4234e3dcdce9",
   "metadata": {},
   "source": [
    "### raised when a sequence subscript is out of range , this occurs whne you try to access an index from a list,tuple or string that does not exist"
   ]
  },
  {
   "cell_type": "markdown",
   "id": "89d3be6d-e288-46b3-b401-bc308ff03bb6",
   "metadata": {},
   "source": [
    "# d. MemoryError"
   ]
  },
  {
   "cell_type": "markdown",
   "id": "2651456d-75c3-4469-b4d1-10df5836c880",
   "metadata": {},
   "source": [
    "### raised when an operation runs out of memory, indicates that the python interpreter cannot allocate enough memory of the operation "
   ]
  },
  {
   "cell_type": "markdown",
   "id": "f507ff84-d6b0-48e3-8e09-8a789e9cce9a",
   "metadata": {},
   "source": [
    "# e. OverFlowError"
   ]
  },
  {
   "cell_type": "markdown",
   "id": "582145de-fdb5-4350-9793-824160c4838f",
   "metadata": {},
   "source": [
    "### Raised when an arthamatic operations exceeds the limit of the current python interpreter"
   ]
  },
  {
   "cell_type": "markdown",
   "id": "df541bee-ef24-4e58-825b-83761aac95c2",
   "metadata": {},
   "source": [
    "# f. TabError"
   ]
  },
  {
   "cell_type": "markdown",
   "id": "8b49daf4-af7a-4654-afcb-351918389468",
   "metadata": {},
   "source": [
    "### raised when indention contains inconsistent use of tabs and spaces"
   ]
  },
  {
   "cell_type": "markdown",
   "id": "0ad28834-b38d-4b46-9a27-5ff089da6b73",
   "metadata": {},
   "source": [
    "# g. ValueError"
   ]
  },
  {
   "cell_type": "markdown",
   "id": "77bb04a7-5338-4da1-bdc5-a5ce65a3aa87",
   "metadata": {},
   "source": [
    "### raises when builtin operation or a function receives an argument with correct type with an invalid value for example , trying to covert an string to integer but a string doesnot reperesent a valid integer"
   ]
  },
  {
   "cell_type": "markdown",
   "id": "c53eb226-3196-4e6b-adc3-163743780790",
   "metadata": {},
   "source": [
    "# 8. Write code for the following given scenario and add try-exception block to it.\n",
    "# a. Program to divide two numbers\n"
   ]
  },
  {
   "cell_type": "code",
   "execution_count": 29,
   "id": "d8e8f95b-d295-472e-b75f-96558733fd49",
   "metadata": {},
   "outputs": [
    {
     "name": "stdin",
     "output_type": "stream",
     "text": [
      "Enter the numerator:  45\n",
      "Enter the denominator:  k\n"
     ]
    },
    {
     "name": "stdout",
     "output_type": "stream",
     "text": [
      "Error: Please enter valid numerical values.\n"
     ]
    }
   ],
   "source": [
    "try:\n",
    "    numerator = float(input(\"Enter the numerator: \"))\n",
    "    denominator = float(input(\"Enter the denominator: \"))\n",
    "    result = numerator / denominator\n",
    "    print(f\"Result of division: {result}\")\n",
    "except ZeroDivisionError:\n",
    "    print(\"Error: Cannot divide by zero.\")\n",
    "except ValueError:\n",
    "    print(\"Error: Please enter valid numerical values.\")\n"
   ]
  },
  {
   "cell_type": "markdown",
   "id": "455f1650-0c26-44e0-9731-d9f45e461a01",
   "metadata": {},
   "source": [
    "# b. Program to convert a string to an integer:"
   ]
  },
  {
   "cell_type": "code",
   "execution_count": 32,
   "id": "ec0f469d-7370-44dc-bca5-e38ee95351c7",
   "metadata": {},
   "outputs": [
    {
     "name": "stdin",
     "output_type": "stream",
     "text": [
      "Enter an integer:  k\n"
     ]
    },
    {
     "name": "stdout",
     "output_type": "stream",
     "text": [
      "Error: Invalid input. Please enter a valid integer.\n"
     ]
    }
   ],
   "source": [
    "try:\n",
    "    input_string = input(\"Enter an integer: \")\n",
    "    number = int(input_string)\n",
    "    print(f\"Converted integer: {number}\")\n",
    "except ValueError:\n",
    "    print(\"Error: Invalid input. Please enter a valid integer.\")\n"
   ]
  },
  {
   "cell_type": "markdown",
   "id": "c669fcfd-d6d2-40c8-bc46-0b3a1950ec35",
   "metadata": {},
   "source": [
    "# c. programm to access an element in a list:"
   ]
  },
  {
   "cell_type": "code",
   "execution_count": 33,
   "id": "33e1575a-cb48-4853-b1da-4819ca3c2861",
   "metadata": {},
   "outputs": [
    {
     "name": "stdin",
     "output_type": "stream",
     "text": [
      "Enter an index to access:  6\n"
     ]
    },
    {
     "name": "stdout",
     "output_type": "stream",
     "text": [
      "Error: Index out of range. Please enter a valid index.\n"
     ]
    }
   ],
   "source": [
    "try:\n",
    "    my_list = [1, 2, 3, 4, 5]\n",
    "    index = int(input(\"Enter an index to access: \"))\n",
    "    value = my_list[index]\n",
    "    print(f\"Value at index {index}: {value}\")\n",
    "except IndexError:\n",
    "    print(\"Error: Index out of range. Please enter a valid index.\")\n",
    "except ValueError:\n",
    "    print(\"Error: Invalid input. Please enter a valid index.\")\n"
   ]
  },
  {
   "cell_type": "markdown",
   "id": "a023f6af-5264-4baf-853d-8346a95d5963",
   "metadata": {},
   "source": [
    "# d. Program to handle a specific exception:\n",
    "\n"
   ]
  },
  {
   "cell_type": "code",
   "execution_count": null,
   "id": "19c2ea91-5a8c-4c13-88f9-848d57060a63",
   "metadata": {},
   "outputs": [],
   "source": [
    "try:\n",
    "    # Some code that may raise a specific exception\n",
    "except SpecificException as e:\n",
    "    print(f\"Error: {e} (Handling SpecificException)\")\n"
   ]
  },
  {
   "cell_type": "markdown",
   "id": "f080318e-24c4-4b4f-a7a5-c2739fb247d9",
   "metadata": {},
   "source": [
    "# e. Program to handle any exception:\n",
    "\n"
   ]
  },
  {
   "cell_type": "code",
   "execution_count": null,
   "id": "d842d3f7-efd3-4543-981e-dbb97aad3bd2",
   "metadata": {},
   "outputs": [],
   "source": [
    "try:\n",
    "    # Some code that may raise any exception\n",
    "except Exception as e:\n",
    "    print(f\"Error: {e} (Handling any exception)\")\n"
   ]
  }
 ],
 "metadata": {
  "kernelspec": {
   "display_name": "Python 3 (ipykernel)",
   "language": "python",
   "name": "python3"
  },
  "language_info": {
   "codemirror_mode": {
    "name": "ipython",
    "version": 3
   },
   "file_extension": ".py",
   "mimetype": "text/x-python",
   "name": "python",
   "nbconvert_exporter": "python",
   "pygments_lexer": "ipython3",
   "version": "3.12.0"
  }
 },
 "nbformat": 4,
 "nbformat_minor": 5
}
