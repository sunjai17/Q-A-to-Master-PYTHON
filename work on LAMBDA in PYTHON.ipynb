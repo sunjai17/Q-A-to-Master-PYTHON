{
 "cells": [
  {
   "cell_type": "markdown",
   "id": "58edc947-4084-4ca8-96dd-5c73c78a9998",
   "metadata": {},
   "source": [
    "# 1. What is a lambda function in Python, and how does it differ from a regular function?"
   ]
  },
  {
   "cell_type": "markdown",
   "id": "c6119631-884f-45aa-a3bb-657c81c49c3a",
   "metadata": {},
   "source": [
    "# answer 1."
   ]
  },
  {
   "cell_type": "markdown",
   "id": "6c3d10dd-e957-4174-980f-f1f5c52f83e1",
   "metadata": {},
   "source": [
    "#### lambda function is a anonymous function (defined without any specific name ) and defined with lambda keyword that can take any number of arguments but can only have one expression"
   ]
  },
  {
   "cell_type": "markdown",
   "id": "52e6d8ca-69b9-4f60-bb0b-5780a98a1d07",
   "metadata": {},
   "source": [
    "#### lambda function automatically returns the results of the expression they evaluate ,while regular function defined with def require an explict return statement to return a value"
   ]
  },
  {
   "cell_type": "markdown",
   "id": "3a4d15ed-221f-4114-930f-9ba45036cee1",
   "metadata": {},
   "source": [
    "# 2. Can a lambda function in Python have multiple arguments? If yes, how can you define and use them?"
   ]
  },
  {
   "cell_type": "markdown",
   "id": "88c1757f-137d-46bc-8b5e-a12e26c614dc",
   "metadata": {},
   "source": [
    "# answer 2."
   ]
  },
  {
   "cell_type": "markdown",
   "id": "53c0c919-60c9-4a26-8d73-b7bed27f207a",
   "metadata": {},
   "source": [
    "### yes , lambda function in python can have multiple arguments but only one expression, you caan define lambda functions with as many arguments as needed,but they are seperated with commas, in the lambda parameter list \n",
    "## example:-"
   ]
  },
  {
   "cell_type": "code",
   "execution_count": 5,
   "id": "5ff6acf2-6d56-401f-83aa-5a61a0125943",
   "metadata": {},
   "outputs": [
    {
     "name": "stdout",
     "output_type": "stream",
     "text": [
      "7\n",
      "_____\n",
      "24\n"
     ]
    }
   ],
   "source": [
    "add= lambda x,y : x+y\n",
    "add(3,4)\n",
    "print(add(3,4))\n",
    "print(\"_____\")\n",
    "\n",
    "multiply = lambda a,b,c: a*b*c\n",
    "print(multiply(2,3,4))"
   ]
  },
  {
   "cell_type": "markdown",
   "id": "08ac5b20-f431-4bc6-9093-b99b92509b82",
   "metadata": {},
   "source": [
    "# 3. How are lambda functions typically used in Python? Provide an example use case."
   ]
  },
  {
   "cell_type": "markdown",
   "id": "fa0c49dd-3841-4e70-9c34-d5f1108f4eac",
   "metadata": {},
   "source": [
    "### lambda functions are particularlly useful in situations where a samll, temporary functions is needed such as while using the functions as map(),filer() and sorted()"
   ]
  },
  {
   "cell_type": "code",
   "execution_count": 7,
   "id": "1ea6ec91-08d0-4fae-a278-86b8595354db",
   "metadata": {},
   "outputs": [
    {
     "name": "stdout",
     "output_type": "stream",
     "text": [
      "[1, 8, 27, 64, 125]\n"
     ]
    }
   ],
   "source": [
    "# while using lambda by map\n",
    "num=[1,2,3,4,5]\n",
    "cube_num=list(map(lambda x:x**3,num))\n",
    "print(cube_num)"
   ]
  },
  {
   "cell_type": "code",
   "execution_count": 8,
   "id": "1f2373cc-6941-4aec-81fd-d7c7b91e62c8",
   "metadata": {},
   "outputs": [
    {
     "name": "stdout",
     "output_type": "stream",
     "text": [
      "[2, 4]\n"
     ]
    }
   ],
   "source": [
    "# using filter\n",
    "even_num=list(filter(lambda x: x%2 == 0,num))\n",
    "print(even_num)"
   ]
  },
  {
   "cell_type": "markdown",
   "id": "064d4432-05a1-48e0-9965-f110db5d20fe",
   "metadata": {},
   "source": [
    "# 4. What are the advantages and limitations of lambda functions compared to regular functions in python?"
   ]
  },
  {
   "cell_type": "markdown",
   "id": "1aebc20e-a1bb-49f6-9fc4-58a80b531645",
   "metadata": {},
   "source": [
    "# advantages of lambda function are:-"
   ]
  },
  {
   "cell_type": "markdown",
   "id": "ff64b95d-05bc-4d17-851a-95c05f72af69",
   "metadata": {},
   "source": [
    "### 1.lambda functions are more concise then regular fucnions , they are one lined function which makes the user easy to code and readable"
   ]
  },
  {
   "cell_type": "markdown",
   "id": "94f459d8-5534-4640-b1c7-d2bc0f28978f",
   "metadata": {},
   "source": [
    "### 2.labda functions are comanly used in map(),sorted(),filetr() where function arguents are required"
   ]
  },
  {
   "cell_type": "markdown",
   "id": "d6e88129-ead5-4926-99f7-0bb8eee18f54",
   "metadata": {},
   "source": [
    "### 3.labda functions donot require seperate names like regular function ,this is useful when the function is simple and used only once"
   ]
  },
  {
   "cell_type": "markdown",
   "id": "5d20c4d7-9c30-4436-a550-536ce240f6b4",
   "metadata": {},
   "source": [
    "# example:-"
   ]
  },
  {
   "cell_type": "code",
   "execution_count": 7,
   "id": "3e9e89b8-3926-4f14-900b-9aa17804f052",
   "metadata": {},
   "outputs": [
    {
     "name": "stdout",
     "output_type": "stream",
     "text": [
      "9\n",
      "------\n",
      "9\n"
     ]
    }
   ],
   "source": [
    "def square(x):\n",
    "    return x**2\n",
    "print(square(3))\n",
    "print(\"------\")\n",
    "lam_square=lambda x: x**2\n",
    "print(lam_square(3))"
   ]
  },
  {
   "cell_type": "markdown",
   "id": "53cd68e4-812d-43fd-a7a5-93653d8a071a",
   "metadata": {},
   "source": [
    "# 5. Are lambda functions in Python able to access variables defined outside of their own scope? Explain with an example."
   ]
  },
  {
   "cell_type": "markdown",
   "id": "c14b6a87-4320-44a5-9375-b94180fa6f46",
   "metadata": {},
   "source": [
    "# answer 5."
   ]
  },
  {
   "cell_type": "markdown",
   "id": "69ad97f7-db0d-4600-bf99-c60cebead740",
   "metadata": {},
   "source": [
    "### yes , lambda functions in python able to access variables defined outside of their own space , let us see this case with an exaple:-"
   ]
  },
  {
   "cell_type": "code",
   "execution_count": 10,
   "id": "002b07f6-02e6-4b50-a2f4-b5409bce9e9d",
   "metadata": {},
   "outputs": [
    {
     "name": "stdout",
     "output_type": "stream",
     "text": [
      "15\n"
     ]
    }
   ],
   "source": [
    "def outer_fun(x):\n",
    "    inner_fun=lambda y: x+y\n",
    "    return inner_fun\n",
    "\n",
    "result=outer_fun(10)\n",
    "print(result(5))\n",
    "\n",
    "# here y is a parameter in lambda function where as x is scope outside the lambda function"
   ]
  },
  {
   "cell_type": "markdown",
   "id": "0b72f9d6-04a4-4313-9675-c5d069941de3",
   "metadata": {},
   "source": [
    "# 6. Write a lambda function to calculate the square of a given number."
   ]
  },
  {
   "cell_type": "code",
   "execution_count": 13,
   "id": "9d4635a7-0938-4258-98ac-572cccaaa71b",
   "metadata": {},
   "outputs": [
    {
     "name": "stdout",
     "output_type": "stream",
     "text": [
      "9\n",
      "25\n",
      "144\n"
     ]
    }
   ],
   "source": [
    "sq_num=lambda x: x**2\n",
    "print(sq_num(3))\n",
    "print(sq_num(5))\n",
    "print(sq_num(12))"
   ]
  },
  {
   "cell_type": "markdown",
   "id": "a6d64ce8-1e54-4ac9-aa64-23b279914569",
   "metadata": {},
   "source": [
    "# 7. Create a lambda function to find the maximum value in a list of integers."
   ]
  },
  {
   "cell_type": "code",
   "execution_count": null,
   "id": "0a1b478b-96af-4f19-88d1-08fffec32e78",
   "metadata": {},
   "outputs": [],
   "source": [
    "int_set=[12,32,11,45,76,2,14]\n",
    "find_max=lambda x: max(x)\n",
    "result=find_max(int_set)\n",
    "print(result)"
   ]
  },
  {
   "cell_type": "markdown",
   "id": "71d6f8cb-483a-44f6-b1f8-2d943b5cfa3b",
   "metadata": {},
   "source": [
    "# 8. Implement a lambda function to filter out all the even numbers from a list of integers."
   ]
  },
  {
   "cell_type": "code",
   "execution_count": 20,
   "id": "f496b89b-2a49-46d8-8ed4-77cdd727a18e",
   "metadata": {},
   "outputs": [
    {
     "name": "stdout",
     "output_type": "stream",
     "text": [
      "[23, 3, 55, 67, 77]\n"
     ]
    }
   ],
   "source": [
    "integer_list=[23,12,3,4,54,55,67,68,78,77]\n",
    "filter_even = lambda x: list(filter(lambda num : num%2 != 0,x))\n",
    "filtered_list=filter_even(integer_list)\n",
    "print(filtered_list)"
   ]
  },
  {
   "cell_type": "markdown",
   "id": "8d5cb46c-f755-4d4a-9c35-c8687f80af66",
   "metadata": {},
   "source": [
    "# 9. Write a lambda function to sort a list of strings in ascending order based on the length of each string."
   ]
  },
  {
   "cell_type": "code",
   "execution_count": 25,
   "id": "4d7ab7fa-152c-4bf3-b8a3-d612c705d3c4",
   "metadata": {},
   "outputs": [
    {
     "name": "stdout",
     "output_type": "stream",
     "text": [
      "['bus', 'desk', 'apple', 'laptop', 'computer', 'notebooks']\n"
     ]
    }
   ],
   "source": [
    "str_list=[\"apple\",\"notebooks\",\"bus\",\"laptop\",\"computer\",\"desk\"]\n",
    "sorted_list=lambda x:sorted(x,key=lambda s : len(s))\n",
    "print(sorted_list(str_list))\n"
   ]
  },
  {
   "cell_type": "markdown",
   "id": "219dd6a2-5d51-42df-a725-a16d082d52b9",
   "metadata": {},
   "source": [
    "# 10. Create a lambda function that takes two lists as input and returns a new list containing the common elements between the two lists."
   ]
  },
  {
   "cell_type": "code",
   "execution_count": 26,
   "id": "adb4b02c-f7bb-4d1e-8dac-46af45864177",
   "metadata": {},
   "outputs": [
    {
     "name": "stdout",
     "output_type": "stream",
     "text": [
      "[7, 2, 4, 9]\n"
     ]
    }
   ],
   "source": [
    "list1=[2,4,3,5,6,7,9,1,3]\n",
    "list2=[7,8,2,4,9,0,8]\n",
    "same_elements=lambda x,y:list(filter(lambda elements:elements in x,y))\n",
    "print(same_elements(list1,list2))"
   ]
  },
  {
   "cell_type": "markdown",
   "id": "0b1ad312-313d-4bee-baf4-c24eb7e984e6",
   "metadata": {},
   "source": [
    "# 11. Write a recursive function to calculate the factorial of a given positive integer."
   ]
  },
  {
   "cell_type": "code",
   "execution_count": 42,
   "id": "b2c80dc9-8cb4-418c-883e-5822baf1ff60",
   "metadata": {},
   "outputs": [
    {
     "name": "stdout",
     "output_type": "stream",
     "text": [
      "the factorial of 7 is : 5040\n",
      "the factorial of 5 is : 120\n"
     ]
    }
   ],
   "source": [
    "def factorial(n):\n",
    "    if n == 0 :\n",
    "        return 1\n",
    "    else :\n",
    "        return n * factorial (n-1)\n",
    "\n",
    "print(\"the factorial of 7 is :\",factorial(7))\n",
    "print(\"the factorial of 5 is :\",factorial(5))"
   ]
  },
  {
   "cell_type": "markdown",
   "id": "6a682535-935c-43d5-9302-53bed6f3b387",
   "metadata": {},
   "source": [
    "# 12. Implement a recursive function to compute the nth Fibonacci number."
   ]
  },
  {
   "cell_type": "code",
   "execution_count": 48,
   "id": "f7da2258-72d1-4a80-9b5e-50d4d76aa13a",
   "metadata": {},
   "outputs": [
    {
     "data": {
      "text/plain": [
       "8"
      ]
     },
     "execution_count": 48,
     "metadata": {},
     "output_type": "execute_result"
    }
   ],
   "source": [
    "def fib(n):\n",
    "    if n == 0:\n",
    "        return 0\n",
    "    elif n ==1 :\n",
    "        return 1\n",
    "    else :\n",
    "        return fib(n-1) + fib(n-2)\n",
    "\n",
    "fib(6)"
   ]
  },
  {
   "cell_type": "markdown",
   "id": "bdd285c3-7698-464a-b584-997b88b150ec",
   "metadata": {},
   "source": [
    "# 13. Create a recursive function to find the sum of all the elements in a given list."
   ]
  },
  {
   "cell_type": "code",
   "execution_count": 51,
   "id": "06740627-44f6-4f21-bff4-9c837bf7fca1",
   "metadata": {},
   "outputs": [
    {
     "name": "stdout",
     "output_type": "stream",
     "text": [
      "15\n"
     ]
    }
   ],
   "source": [
    "def rec_list(list1):\n",
    "    if not list1:\n",
    "        return 0\n",
    "    else :\n",
    "        return list1[0]+rec_list(list1[1:])\n",
    "exam_list=[1,2,3,4,5]\n",
    "print(rec_list(exam_list))"
   ]
  },
  {
   "cell_type": "markdown",
   "id": "688344e4-bcc1-48ac-8144-470c2da81c44",
   "metadata": {},
   "source": [
    "# 14. Write a recursive function to determine whether a given string is a palindrome."
   ]
  },
  {
   "cell_type": "code",
   "execution_count": 58,
   "id": "f6f35be4-c41f-487a-bdca-0f018754a1dd",
   "metadata": {},
   "outputs": [
    {
     "name": "stdin",
     "output_type": "stream",
     "text": [
      "enter the word : malayalam\n"
     ]
    },
    {
     "name": "stdout",
     "output_type": "stream",
     "text": [
      "True\n"
     ]
    }
   ],
   "source": [
    "def is_palindrome(s):\n",
    "    if len(s)==0 or len(s) ==1 :\n",
    "        return True\n",
    "    else :\n",
    "        return s[0]==s[-1] and is_palindrome(s[1:-1])\n",
    "\n",
    "exa_word=str(input(\"enter the word :\"))\n",
    "print(is_palindrome(exa_word))"
   ]
  },
  {
   "cell_type": "markdown",
   "id": "d526b663-f4e9-4a1c-b640-dd89665a2a7e",
   "metadata": {},
   "source": [
    "# 15. Implement a recursive function to find the greatest common divisor (GCD) of two positive integers."
   ]
  },
  {
   "cell_type": "code",
   "execution_count": 64,
   "id": "2020ee7e-2cef-496c-8a8f-32d32ece8cdb",
   "metadata": {},
   "outputs": [
    {
     "name": "stdout",
     "output_type": "stream",
     "text": [
      "2\n"
     ]
    }
   ],
   "source": [
    "def gcd(a,b):\n",
    "    if b == 0:\n",
    "        return a\n",
    "    else :\n",
    "        return gcd(b,a%b)\n",
    "\n",
    "result=gcd(22,24)\n",
    "print(result)"
   ]
  },
  {
   "cell_type": "code",
   "execution_count": null,
   "id": "12ff4e7e-099b-4b7c-b6d4-cbce339129c8",
   "metadata": {},
   "outputs": [],
   "source": []
  }
 ],
 "metadata": {
  "kernelspec": {
   "display_name": "Python 3 (ipykernel)",
   "language": "python",
   "name": "python3"
  },
  "language_info": {
   "codemirror_mode": {
    "name": "ipython",
    "version": 3
   },
   "file_extension": ".py",
   "mimetype": "text/x-python",
   "name": "python",
   "nbconvert_exporter": "python",
   "pygments_lexer": "ipython3",
   "version": "3.12.0"
  }
 },
 "nbformat": 4,
 "nbformat_minor": 5
}
