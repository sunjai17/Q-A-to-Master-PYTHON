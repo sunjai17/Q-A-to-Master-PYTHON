{
 "cells": [
  {
   "cell_type": "markdown",
   "id": "a69e21df-43ca-41f7-a4a5-c20a8fbeaba5",
   "metadata": {},
   "source": [
    "# ASSINGNMENT 1\n",
    "## sanjay.p"
   ]
  },
  {
   "cell_type": "markdown",
   "id": "2fc65abd-6896-42f1-ba3a-81b6eae09cdb",
   "metadata": {},
   "source": [
    "## 1. In the below elements which of them are values or an expression? eg:- values can be integer or string and expressions will be mathematical operators.\n",
    "##   *      = expression\r",
    "##  \n",
    "'hello=value'##  \r\n",
    "-87 = value\n",
    "##  -     = expression\n",
    "##  /    = expression\r",
    "##  \n",
    "/  = expression ##   \r\n",
    "   =  value+\t\r\n",
    "6 \r\n"
   ]
  },
  {
   "cell_type": "markdown",
   "id": "846dbd2c-0ad6-4c65-baae-4656bf14aa11",
   "metadata": {},
   "source": [
    "# 2. What is the difference between string and variable?"
   ]
  },
  {
   "cell_type": "markdown",
   "id": "4a6517c9-5577-4e98-9cde-c50f1d7882bd",
   "metadata": {},
   "source": [
    "# Answer 2.\n",
    "## variable are symbols that you can use to store data in a program.compare them to a empty box that you fill them with some data or value\n",
    "## where as strings are the data,so they can be used to fill up the variables"
   ]
  },
  {
   "cell_type": "markdown",
   "id": "4252cc8f-0e2f-47cd-9830-63fd0d4576c6",
   "metadata": {},
   "source": [
    "# 3. Describe three different data types."
   ]
  },
  {
   "cell_type": "markdown",
   "id": "75bcc7ff-075e-425a-a05e-3e42262db8d1",
   "metadata": {},
   "source": [
    "# Answer 3.\n",
    "## a. Integers :- Integers are whole numbers ;without a fractional components.They can be either postive or negative.\n",
    "## b. Floats :- They are the real numbers which are written with a decimal point.\n",
    "## c. Strings :- Strings in python are sequence of character data. They are created by enclosing character in quotes."
   ]
  },
  {
   "cell_type": "markdown",
   "id": "910d9212-ce70-4be8-a767-6f712e2d8bf5",
   "metadata": {},
   "source": [
    "# 4. What is an expression made up of? What do all expressions do?"
   ]
  },
  {
   "cell_type": "markdown",
   "id": "5e029864-ac22-443c-9334-0ed1169f19d6",
   "metadata": {},
   "source": [
    "# Answer 4.\n",
    "## An expression is made up of 3 things operators, constatns, and variables\n",
    "## these are used to perform operations on data,such as mathematical calculations, logical evaluations, and string manipulations"
   ]
  },
  {
   "cell_type": "markdown",
   "id": "dab238ae-a170-4df9-ac6a-d2b4c9041fde",
   "metadata": {},
   "source": [
    "# 5. What is the difference between an expression and a statement?"
   ]
  },
  {
   "cell_type": "markdown",
   "id": "76799754-76f6-40f4-b501-17b848c501bd",
   "metadata": {},
   "source": [
    "# Answer 5\n",
    "## a statement is used for creating variables or for displaying values\n",
    "## but expressions in python produces some values or results after being interpreted by the python interpreter.\n",
    "## a statement in python are not evaluated for some results.But an expression in Python is evaluated for some results."
   ]
  },
  {
   "cell_type": "markdown",
   "id": "27c8a0d0-e72f-47be-8ff1-a30913c1866a",
   "metadata": {},
   "source": [
    "# 6. After running the following code, what does the variable bacon contain?\n",
    "## \n",
    "bacon = 22\n",
    "## \r\n",
    "bacon +\n",
    " 1\r\n"
   ]
  },
  {
   "cell_type": "code",
   "execution_count": 4,
   "id": "fc186a4e-df06-4830-97d4-484f22561786",
   "metadata": {},
   "outputs": [
    {
     "name": "stdout",
     "output_type": "stream",
     "text": [
      "22\n"
     ]
    }
   ],
   "source": [
    "bacon =22\n",
    "bacon+1 \n",
    "print(bacon)\n"
   ]
  },
  {
   "cell_type": "markdown",
   "id": "2fef24ab-46fb-4bba-a0d0-dc7a331446f1",
   "metadata": {},
   "source": [
    "# 7.This assignment statements, like spam = 10. What should the values of the following two terms be?\n",
    "\r",
    "## \n",
    "'spam' + 'spamspa'\n",
    "\n",
    "'## \r\n",
    "'spam' * 3\r\n"
   ]
  },
  {
   "cell_type": "code",
   "execution_count": 12,
   "id": "908d99f3-ec4d-4482-84bd-63450d48a301",
   "metadata": {},
   "outputs": [
    {
     "name": "stdout",
     "output_type": "stream",
     "text": [
      "10\n",
      "20\n",
      "30\n"
     ]
    }
   ],
   "source": [
    "#given \n",
    "spam =10\n",
    "print(spam)\n",
    "result=spam+spam\n",
    "print(result)\n",
    "result2 =spam*3\n",
    "print(result2)"
   ]
  },
  {
   "cell_type": "markdown",
   "id": "da6b3b36-6f20-4989-bf1b-bdef507959ab",
   "metadata": {},
   "source": [
    "# 8. Why is eggs a valid variable name while 100 is invalid?"
   ]
  },
  {
   "cell_type": "markdown",
   "id": "40b04a6b-1995-4207-b58f-00ad46900f4c",
   "metadata": {},
   "source": [
    "# Answer 8\n",
    "## because variable name can begin with letters but cannot begin with numbers ,so eggs is a vaild variable where as 100 is not"
   ]
  },
  {
   "cell_type": "markdown",
   "id": "0163e8a7-2e11-4e5c-8533-9ea2ac3015be",
   "metadata": {},
   "source": [
    "# 9. What three functions can be used to get the integer, floating-point number, or string version of a value?"
   ]
  },
  {
   "cell_type": "markdown",
   "id": "7cefdd67-5eae-4f96-9f78-827983fcd6c3",
   "metadata": {},
   "source": [
    "# Answer 9.\n",
    "## we can you :- int(),float(),str()"
   ]
  },
  {
   "cell_type": "code",
   "execution_count": 20,
   "id": "f7416233-fd8b-441a-b61a-bbdcef021ff9",
   "metadata": {},
   "outputs": [
    {
     "data": {
      "text/plain": [
       "'8.0'"
      ]
     },
     "execution_count": 20,
     "metadata": {},
     "output_type": "execute_result"
    }
   ],
   "source": [
    "#ex:-\n",
    "\n",
    "int(8.00)\n",
    "float(8.00)\n",
    "str(8.00)"
   ]
  },
  {
   "cell_type": "markdown",
   "id": "413f6e26-6054-48d6-a37e-b28bb9b0d7ba",
   "metadata": {},
   "source": [
    "# 10. Why does this expression cause an error? How can you fix it?\r",
    "## \n",
    "'I have eaten ' + 99 + ' burritos.'\r\n"
   ]
  },
  {
   "cell_type": "code",
   "execution_count": 21,
   "id": "f6936073-8a15-4521-92f1-ade8645d0008",
   "metadata": {},
   "outputs": [
    {
     "ename": "TypeError",
     "evalue": "can only concatenate str (not \"int\") to str",
     "output_type": "error",
     "traceback": [
      "\u001b[1;31m---------------------------------------------------------------------------\u001b[0m",
      "\u001b[1;31mTypeError\u001b[0m                                 Traceback (most recent call last)",
      "Cell \u001b[1;32mIn[21], line 1\u001b[0m\n\u001b[1;32m----> 1\u001b[0m \u001b[38;5;124;43m'\u001b[39;49m\u001b[38;5;124;43mI have eaten\u001b[39;49m\u001b[38;5;124;43m'\u001b[39;49m\u001b[38;5;241;43m+\u001b[39;49m\u001b[38;5;241;43m99\u001b[39;49m\u001b[38;5;241m+\u001b[39m\u001b[38;5;124m'\u001b[39m\u001b[38;5;124mburritos\u001b[39m\u001b[38;5;124m'\u001b[39m\n",
      "\u001b[1;31mTypeError\u001b[0m: can only concatenate str (not \"int\") to str"
     ]
    }
   ],
   "source": [
    "'I have eaten'+99+'burritos'\n",
    "# the error is the above line only concatenate str (not \"integer\"=99)"
   ]
  },
  {
   "cell_type": "code",
   "execution_count": 22,
   "id": "665dd2e3-4e69-4211-8b59-5e01c5a30c0f",
   "metadata": {},
   "outputs": [
    {
     "name": "stdout",
     "output_type": "stream",
     "text": [
      "i have eaten 99 burritos\n"
     ]
    }
   ],
   "source": [
    "# so add '' to whole statement including integer\n",
    "print('i have eaten 99 burritos')"
   ]
  },
  {
   "cell_type": "code",
   "execution_count": null,
   "id": "7e1d4726-f884-4815-bc08-6aac70aa8eea",
   "metadata": {},
   "outputs": [],
   "source": []
  }
 ],
 "metadata": {
  "kernelspec": {
   "display_name": "Python 3 (ipykernel)",
   "language": "python",
   "name": "python3"
  },
  "language_info": {
   "codemirror_mode": {
    "name": "ipython",
    "version": 3
   },
   "file_extension": ".py",
   "mimetype": "text/x-python",
   "name": "python",
   "nbconvert_exporter": "python",
   "pygments_lexer": "ipython3",
   "version": "3.12.0"
  }
 },
 "nbformat": 4,
 "nbformat_minor": 5
}
