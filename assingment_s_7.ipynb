{
 "cells": [
  {
   "cell_type": "markdown",
   "id": "5c996319-2e96-42db-8839-0a5e81122ec0",
   "metadata": {},
   "source": [
    "# Assingmnet 7(solutions)"
   ]
  },
  {
   "cell_type": "markdown",
   "id": "5413f398-4b86-4d48-aa71-9981f3500507",
   "metadata": {},
   "source": [
    "# Q.1. Create two int type variables, apply addition, subtraction, division and multiplications and store the results in variables. Then print the data in the following format by calling the variables:"
   ]
  },
  {
   "cell_type": "markdown",
   "id": "2ccef5b9-415a-49ea-9dc3-b7fae7868a6b",
   "metadata": {},
   "source": [
    "##### First variable is __ & second variable is __.\n",
    "##### Addition: __ + __ = __\n",
    "#####  Subtraction: __ - __ = __\n",
    "##### Multiplication: __ * __ = __\n",
    "##### Division: __ / __ = __\n"
   ]
  },
  {
   "cell_type": "markdown",
   "id": "69fb9a44-e07a-4025-b82b-ff131dac4f1c",
   "metadata": {},
   "source": [
    "# answer 1:-"
   ]
  },
  {
   "cell_type": "code",
   "execution_count": 1,
   "id": "a789507b-37e9-4d10-91a8-37cb14157dc1",
   "metadata": {},
   "outputs": [
    {
     "name": "stdout",
     "output_type": "stream",
     "text": [
      "25\n",
      "12\n",
      "------\n",
      "37\n",
      "13\n",
      "300\n",
      "2.0833333333333335\n",
      "-----\n",
      "First variable is 25 & Second variable is 12\n",
      "Addition: 25 + 12 = 37\n",
      "Subtraction: 25 - 12 = 13\n",
      "Multiplication: 25 * 12 = 300\n",
      "Division: 25 / 12 = 2.0833333333333335\n"
     ]
    }
   ],
   "source": [
    "var1=25\n",
    "var2=12\n",
    "print(var1)# first variable\n",
    "print(var2)# second variable \n",
    "print(\"------\")\n",
    "\n",
    "#addition \n",
    "add= var1+var2\n",
    "print(add)\n",
    "\n",
    "sub= var1-var2\n",
    "print(sub)\n",
    "\n",
    "mul=var1*var2\n",
    "print(mul)\n",
    "\n",
    "\n",
    "div= var1 /var2 \n",
    "print(div)\n",
    "print(\"-----\")\n",
    "#printing the results in the given formate\n",
    "print(f\"First variable is\",var1,'&',\"Second variable is\",var2)\n",
    "print(f\"Addition:\",var1,\"+\",var2,\"=\",add)\n",
    "print(f\"Subtraction:\",var1,\"-\",var2,\"=\",sub)\n",
    "print(f\"Multiplication:\",var1,\"*\",var2,\"=\",mul)\n",
    "print(f\"Division:\",var1,\"/\",var2,\"=\",div)\n",
    "\n",
    "\n",
    "\n"
   ]
  },
  {
   "cell_type": "markdown",
   "id": "7910b278-5017-4d35-a395-a73d49e60cfa",
   "metadata": {},
   "source": [
    "# Q.2. What is the difference between the following operators:\n",
    "### (i) ‘/’ & ‘//’\n",
    "### (ii) ‘**’ & ‘^’"
   ]
  },
  {
   "cell_type": "markdown",
   "id": "32297373-6e83-42c6-bd3f-91fd2ecd641c",
   "metadata": {},
   "source": [
    "# answer 2:-"
   ]
  },
  {
   "cell_type": "markdown",
   "id": "be59e1eb-4a8c-4d95-a592-4c259f96cffd",
   "metadata": {},
   "source": [
    "## \"/\" is used for the normal division of two numbers where as \"//\" is also used to divide two numbers but in the solution will always in the form of integers but not in float ,\"//\"gives the smallest integer nearer to the quotient obtained by dividing two numbers\n",
    "# ex:-\n"
   ]
  },
  {
   "cell_type": "code",
   "execution_count": 37,
   "id": "2efba359-2ade-4be7-82ad-0744bae2c9bb",
   "metadata": {},
   "outputs": [
    {
     "name": "stdout",
     "output_type": "stream",
     "text": [
      "2.25\n",
      "2\n"
     ]
    }
   ],
   "source": [
    "var1=27\n",
    "var2=12\n",
    "print(var1/var2)\n",
    "print(var1//var2)"
   ]
  },
  {
   "cell_type": "markdown",
   "id": "c970a2e0-8266-4b6f-a2fa-2c25e5b2acd5",
   "metadata": {},
   "source": [
    "## \"**\" is used as the exponential operator where as \"^\" is used as bitwise XOR(exclusive OR) operator\n",
    "# ex:-"
   ]
  },
  {
   "cell_type": "code",
   "execution_count": 39,
   "id": "bbeadd55-30fd-465f-af31-84424d2187bc",
   "metadata": {},
   "outputs": [
    {
     "name": "stdout",
     "output_type": "stream",
     "text": [
      "81\n"
     ]
    }
   ],
   "source": [
    "var1=3\n",
    "var2=4\n",
    "print(var1**var2)"
   ]
  },
  {
   "cell_type": "code",
   "execution_count": 43,
   "id": "48568253-cb6e-43ea-a134-d1e929c00b00",
   "metadata": {},
   "outputs": [
    {
     "name": "stdout",
     "output_type": "stream",
     "text": [
      "0b11\n",
      "0b100\n",
      "7\n"
     ]
    }
   ],
   "source": [
    "var1=3\n",
    "print(bin(var1))\n",
    "var2=4\n",
    "print(bin(var2))\n",
    "\n",
    "print(var1^var2)"
   ]
  },
  {
   "cell_type": "markdown",
   "id": "8e9e0dc3-c75b-481d-abe8-5bac9121ab82",
   "metadata": {},
   "source": [
    "# Q.3. List the logical operators."
   ]
  },
  {
   "cell_type": "markdown",
   "id": "55b7f8fb-39f9-4d44-aa6a-88c5ba511b01",
   "metadata": {},
   "source": [
    "## answer:-"
   ]
  },
  {
   "cell_type": "markdown",
   "id": "59d1fb32-fc23-4f8b-ac14-43d9a92b6041",
   "metadata": {},
   "source": [
    "## In python there are three types of logical operators \n",
    "# and,or and not\n",
    "#### 'and' operator writes true when both conditions are true \n",
    "#### 'or' operator writes true if either of the condtion is ture\n",
    "#### 'not' operator inverse the result :-i.e, True changes to false and false changes to true"
   ]
  },
  {
   "cell_type": "markdown",
   "id": "37e8a8e4-6aba-405a-8b7f-6bbe48a93572",
   "metadata": {},
   "source": [
    "# Q.4. Explain right shift operator and left shift operator with examples."
   ]
  },
  {
   "cell_type": "markdown",
   "id": "f800dc89-b32d-4a7d-9546-850bab4023a1",
   "metadata": {},
   "source": [
    "# answer:-"
   ]
  },
  {
   "cell_type": "markdown",
   "id": "a53dc188-3708-4c25-8dad-d0c97344cf45",
   "metadata": {},
   "source": [
    "#### right shift operator (>>) ,which moves the bits of an integer expression on the right side, and fills 0 on voids left(fills 1 in case of ngative number\n",
    "#### left shift operator (<<) , which moves the bits of an integer expression on the left side, and fills 0 on the voids on the right\n",
    "## ex:-"
   ]
  },
  {
   "cell_type": "code",
   "execution_count": 2,
   "id": "b335a6c0-ebb8-4cba-9b02-abd6290f9a7c",
   "metadata": {},
   "outputs": [
    {
     "name": "stdout",
     "output_type": "stream",
     "text": [
      "0b111100\n",
      "0b1101\n"
     ]
    }
   ],
   "source": [
    "a=60\n",
    "b=13\n",
    "print(bin(a))\n",
    "print(bin(b))"
   ]
  },
  {
   "cell_type": "code",
   "execution_count": 4,
   "id": "a6a3c121-ef80-4ebd-8f4a-cb98b17d98c2",
   "metadata": {},
   "outputs": [
    {
     "name": "stdout",
     "output_type": "stream",
     "text": [
      "240\n",
      "0b11110000\n"
     ]
    }
   ],
   "source": [
    "c=a<<2\n",
    "print(c)\n",
    "print(bin(c))"
   ]
  },
  {
   "cell_type": "code",
   "execution_count": 5,
   "id": "9481f22f-429e-4186-8b54-197e0f1afd55",
   "metadata": {},
   "outputs": [
    {
     "name": "stdout",
     "output_type": "stream",
     "text": [
      "15\n",
      "0b1111\n"
     ]
    }
   ],
   "source": [
    "c=a>>2\n",
    "print(c)\n",
    "print(bin(c))"
   ]
  },
  {
   "cell_type": "markdown",
   "id": "450291b4-7e5c-4356-bcaa-f19fe52e39b4",
   "metadata": {},
   "source": [
    "# Q.5. Create a list containing int type data of length 15. Then write a code to check if 10 is present in the list or not."
   ]
  },
  {
   "cell_type": "markdown",
   "id": "1ab1dba2-3417-4c93-b823-28423588f8eb",
   "metadata": {},
   "source": [
    "# case1 : when 10 is present in list1"
   ]
  },
  {
   "cell_type": "code",
   "execution_count": 27,
   "id": "14fe3f2f-dd60-4e81-ab8d-8e4922418b16",
   "metadata": {},
   "outputs": [
    {
     "name": "stdout",
     "output_type": "stream",
     "text": [
      "17\n",
      "<class 'list'>\n"
     ]
    }
   ],
   "source": [
    "# creating a list of integer type data of length 15\n",
    "list1=[21,20,13,14,16,23,4,3,5,10,18,11,24,38,46,88,97]\n",
    "print(len(list1))\n",
    "print(type(list1))"
   ]
  },
  {
   "cell_type": "code",
   "execution_count": 28,
   "id": "46145890-a4c6-4e5b-8d91-a3d1871d4317",
   "metadata": {},
   "outputs": [
    {
     "name": "stdout",
     "output_type": "stream",
     "text": [
      "the integer 10 is present in the list1\n"
     ]
    }
   ],
   "source": [
    "#to check whether the integer 10 present in the list or not\n",
    "if 10 in list1:\n",
    "    print(\"the integer 10 is present in the list1\")\n",
    "else:\n",
    "    print(\"the integer 10 is not present in list1\")"
   ]
  },
  {
   "cell_type": "markdown",
   "id": "f6de59bb-00e7-47e1-8c6b-a11e21f7fdf3",
   "metadata": {},
   "source": [
    "# case 2: when 10 is not present in list1"
   ]
  },
  {
   "cell_type": "code",
   "execution_count": 35,
   "id": "28706316-8250-405d-964b-a17daace9cc1",
   "metadata": {},
   "outputs": [
    {
     "name": "stdout",
     "output_type": "stream",
     "text": [
      "16\n",
      "<class 'list'>\n"
     ]
    }
   ],
   "source": [
    "# when 10 is not presnet\n",
    "list1=[21,20,13,14,16,23,4,3,5,18,11,24,38,46,88,97]\n",
    "print(len(list1))\n",
    "print(type(list1))"
   ]
  },
  {
   "cell_type": "code",
   "execution_count": 36,
   "id": "a0742dca-f6f9-4015-bd22-fe052f265998",
   "metadata": {},
   "outputs": [
    {
     "name": "stdout",
     "output_type": "stream",
     "text": [
      "the integer 10 is not presnet in list1\n"
     ]
    }
   ],
   "source": [
    "if 10 in list1:\n",
    "    print(\"the integer 10 is present in list1\")\n",
    "else:\n",
    "    print(\"the integer 10 is not presnet in list1\")"
   ]
  },
  {
   "cell_type": "code",
   "execution_count": null,
   "id": "84576b5f-e580-437d-ab55-64707efacac2",
   "metadata": {},
   "outputs": [],
   "source": []
  }
 ],
 "metadata": {
  "kernelspec": {
   "display_name": "Python 3 (ipykernel)",
   "language": "python",
   "name": "python3"
  },
  "language_info": {
   "codemirror_mode": {
    "name": "ipython",
    "version": 3
   },
   "file_extension": ".py",
   "mimetype": "text/x-python",
   "name": "python",
   "nbconvert_exporter": "python",
   "pygments_lexer": "ipython3",
   "version": "3.12.0"
  }
 },
 "nbformat": 4,
 "nbformat_minor": 5
}
