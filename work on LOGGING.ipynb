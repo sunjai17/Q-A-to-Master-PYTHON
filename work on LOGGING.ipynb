{
 "cells": [
  {
   "cell_type": "markdown",
   "id": "c7dcb8ef-7f33-4d95-9524-ba657e777623",
   "metadata": {},
   "source": [
    "# 1. What is the role of the 'else' block in a try-except statement? Provide an example scenario where it would be useful."
   ]
  },
  {
   "cell_type": "markdown",
   "id": "6cc66a11-f0f3-4427-9f3e-c1a35fbac762",
   "metadata": {},
   "source": [
    "# answer 1."
   ]
  },
  {
   "cell_type": "markdown",
   "id": "22d76fb5-8f8f-4e65-98bc-4c869ccf43dc",
   "metadata": {},
   "source": [
    "### In a try-exccept statemment in python ,\"else\" part is only exceueted when there is no exception in \"try\",this allows to specify a block of code that shiuld be exceuted only if the code in try block runs successfully without any excepions"
   ]
  },
  {
   "cell_type": "code",
   "execution_count": 6,
   "id": "f77e3b3e-be4b-4ee7-a436-90f8ee168c20",
   "metadata": {},
   "outputs": [
    {
     "name": "stdout",
     "output_type": "stream",
     "text": [
      "the result is : 2.0\n",
      "error:the number cannot be divided by zero\n"
     ]
    }
   ],
   "source": [
    "def dividethenumber(a,b):\n",
    "    try:\n",
    "        result =a/b\n",
    "    except ZeroDivisionError:\n",
    "        print(\"error:the number cannot be divided by zero\")\n",
    "    else:\n",
    "        print(\"the result is :\",result)\n",
    "\n",
    "(dividethenumber(4,2))\n",
    "(dividethenumber(4,0))"
   ]
  },
  {
   "cell_type": "markdown",
   "id": "375b0851-7b79-40dc-b9c2-c874b112951d",
   "metadata": {},
   "source": [
    "# 2. Can a try-except block be nested inside another try-except block? Explain with an example.."
   ]
  },
  {
   "cell_type": "markdown",
   "id": "2a92dbc7-ed24-4739-a1a0-633f87e8e9a4",
   "metadata": {},
   "source": [
    "# answer 2."
   ]
  },
  {
   "cell_type": "markdown",
   "id": "fbcc469d-8135-4ad9-b3c5-b58b73ea459d",
   "metadata": {},
   "source": [
    "### yes, a try-except block can be nested in other try-except block\n",
    "# example"
   ]
  },
  {
   "cell_type": "code",
   "execution_count": 11,
   "id": "7e5f4059-b1b6-4d1e-947c-70141718d3e8",
   "metadata": {},
   "outputs": [
    {
     "name": "stdin",
     "output_type": "stream",
     "text": [
      "enter the integer 4\n",
      "enter the integer s\n"
     ]
    },
    {
     "name": "stdout",
     "output_type": "stream",
     "text": [
      "error:enter a vaild integer\n"
     ]
    }
   ],
   "source": [
    "try:#outer try-except\n",
    "    num1=int(input(\"enter the integer\"))\n",
    "    num2=int(input(\"enter the integer\"))\n",
    "    try:#inner try-except\n",
    "        result=num1/num2\n",
    "    except ZeroDivisionError:\n",
    "        print(\"error:the denoimator is zero\")\n",
    "except ValueError:\n",
    "    print(\"error:enter a vaild integer\")\n",
    "else:\n",
    "    print(\"THE RESULT IS \",result)\n",
    "        "
   ]
  },
  {
   "cell_type": "markdown",
   "id": "2fdda685-b1a7-460e-9673-a8dc9d7dd1ef",
   "metadata": {},
   "source": [
    "# 3. How can you create a custom exception class in Python? Provide an example that demonstrates its usage. "
   ]
  },
  {
   "cell_type": "markdown",
   "id": "2838e341-a8fa-41a9-8fe3-482d8a943c7b",
   "metadata": {},
   "source": [
    "# answer 3."
   ]
  },
  {
   "cell_type": "markdown",
   "id": "e547bffb-9aec-41ef-968f-416cc81748a9",
   "metadata": {},
   "source": [
    "### In python we can creat custom exception with the help of in built exception class or its subclass"
   ]
  },
  {
   "cell_type": "code",
   "execution_count": 2,
   "id": "1ce7a6e0-14c0-4f46-a8cc-a97c8d10a855",
   "metadata": {},
   "outputs": [
    {
     "name": "stdout",
     "output_type": "stream",
     "text": [
      "Custom Error: Cannot divide by zero.\n"
     ]
    }
   ],
   "source": [
    "class CustomError(Exception):\n",
    "    \"\"\"A custom exception class.\"\"\"\n",
    "    def __init__(self, message=\"This is a custom error.\"):\n",
    "        self.message = message\n",
    "        super().__init__(self.message)\n",
    "\n",
    "# Example of using the custom exception\n",
    "def divide_numbers(a, b):\n",
    "    if b == 0:\n",
    "        raise CustomError(\"Cannot divide by zero.\")\n",
    "    return a / b\n",
    "\n",
    "# Example usage\n",
    "try:\n",
    "    result = divide_numbers(10, 0)\n",
    "    print(\"Result:\", result)\n",
    "except CustomError as ce:\n",
    "    print(f\"Custom Error: {ce}\")\n",
    "except Exception as e:\n",
    "    print(f\"An unexpected error occurred: {e}\")\n"
   ]
  },
  {
   "cell_type": "markdown",
   "id": "90bfe8b7-c65f-4838-9a6f-1f9b79cdc552",
   "metadata": {},
   "source": [
    "# 4. What are some common exceptions that are built-in to Python?"
   ]
  },
  {
   "cell_type": "markdown",
   "id": "599df008-f619-4f8a-b3e2-2dadc7d36e19",
   "metadata": {},
   "source": [
    "# SyntaxError\n",
    "# IndentationError\n",
    "# NameError\n",
    "# TypeError\n",
    "# IndexError\n",
    "# ValueError\n",
    "# FileNotFoundError\n",
    "# ZeroDivisionError\n",
    "# "
   ]
  },
  {
   "cell_type": "markdown",
   "id": "efbc2a97-4264-4ae0-adb2-6b500be09f33",
   "metadata": {},
   "source": [
    "# 5. What is logging in Python, and why is it important in software development?"
   ]
  },
  {
   "cell_type": "markdown",
   "id": "c1efa4fe-9dbd-4ede-8749-75122def35ca",
   "metadata": {},
   "source": [
    "# answer 5."
   ]
  },
  {
   "cell_type": "markdown",
   "id": "22aa3b7e-0cc7-45ca-8264-9a69ba7ab2d6",
   "metadata": {},
   "source": [
    "#### Logging in Python refers to the process of recording messages, events, or information generated by a software application during its execution."
   ]
  },
  {
   "cell_type": "markdown",
   "id": "ae9686c2-06b9-478f-8336-4ad38dccf4d9",
   "metadata": {},
   "source": [
    "### the importance of logging is:-"
   ]
  },
  {
   "cell_type": "markdown",
   "id": "559217d0-e044-48fa-9321-01c56c67e2d3",
   "metadata": {},
   "source": [
    "#### 1.debugging\n",
    "#### 2.monitoring\n",
    "#### 3.Auditing \n",
    "#### 4.Maintaince and improvement\n",
    "#### 5.Documentation"
   ]
  },
  {
   "cell_type": "markdown",
   "id": "ddc4d22b-ee19-4745-8959-de2886107058",
   "metadata": {},
   "source": [
    "# 6. Explain the purpose of log levels in Python logging and provide examples of when each  log level would be appropriate."
   ]
  },
  {
   "cell_type": "markdown",
   "id": "e93ba5ca-d020-41b4-89dd-c4dd920165e6",
   "metadata": {},
   "source": [
    "# answer 6."
   ]
  },
  {
   "cell_type": "markdown",
   "id": "f5d6f702-2f3e-4287-8ad9-d9487a71e277",
   "metadata": {},
   "source": [
    "#### In Python logging, log levels are used to categorize and prioritize log messages based on their severity or importance. "
   ]
  },
  {
   "cell_type": "code",
   "execution_count": null,
   "id": "9d2cb417-200c-49a7-96f2-a68bcbc2d3eb",
   "metadata": {},
   "outputs": [],
   "source": [
    "#debug\n",
    "import logging\n",
    "\n",
    "logging.debug(\"This is a debug message. Variable x = %s\", x)\n",
    "# similarlly\n",
    "logging.info\n",
    "logging.warning\n",
    "logging.error\n",
    "logging.critical"
   ]
  },
  {
   "cell_type": "markdown",
   "id": "9b1c97ee-b5da-4901-9e41-d48a24f5c890",
   "metadata": {},
   "source": [
    "# 7. What are log formatters in Python logging, and how can you customise the log message format using formatters?"
   ]
  },
  {
   "cell_type": "markdown",
   "id": "df403695-4d8d-4b98-8ce5-4d11b3b58336",
   "metadata": {},
   "source": [
    "# answer 7."
   ]
  },
  {
   "cell_type": "markdown",
   "id": "baa27bd6-7441-437a-a9b7-4d77e6c2bd24",
   "metadata": {},
   "source": [
    "#### In Python logging, a log formatter is responsible for specifying the layout or structure of log messages. It defines how log records are converted into text for output. Formatters help make log messages more readable and informative by allowing developers to customize the content and appearance of the log entries."
   ]
  },
  {
   "cell_type": "code",
   "execution_count": 3,
   "id": "37850dab-c572-4be2-aa63-551451217fb5",
   "metadata": {},
   "outputs": [
    {
     "name": "stderr",
     "output_type": "stream",
     "text": [
      "2023-11-25 20:03:22,115 - INFO - This is an informational message.\n"
     ]
    }
   ],
   "source": [
    "import logging\n",
    "\n",
    "# Create a formatter with a custom format\n",
    "formatter = logging.Formatter('%(asctime)s - %(levelname)s - %(message)s')\n",
    "\n",
    "# Create a handler and set the formatter\n",
    "handler = logging.StreamHandler()\n",
    "handler.setFormatter(formatter)\n",
    "\n",
    "# Create a logger, add the handler, and set the log level\n",
    "logger = logging.getLogger('example')\n",
    "logger.addHandler(handler)\n",
    "logger.setLevel(logging.DEBUG)\n",
    "\n",
    "# Log a message\n",
    "logger.info('This is an informational message.')\n"
   ]
  },
  {
   "cell_type": "markdown",
   "id": "330209fa-cea7-4657-b1e6-fc885cf1a30d",
   "metadata": {},
   "source": [
    "# 8. How can you set up logging to capture log messages from multiple modules or classes in a Python application?"
   ]
  },
  {
   "cell_type": "markdown",
   "id": "cd655f0c-2425-4954-b1b4-396c8f749af0",
   "metadata": {},
   "source": [
    "# answer 8."
   ]
  },
  {
   "cell_type": "markdown",
   "id": "6f520075-cd4f-4b3b-84e1-0910a1eb39a6",
   "metadata": {},
   "source": [
    "### 1.Create a Logging Configuration:\n",
    "### 2.Create Loggers for Each Module/Class:\n",
    "### 3.Configure Handlers for Each Logger:\n",
    "### 4.Adjust Log Levels (Optional):"
   ]
  },
  {
   "cell_type": "markdown",
   "id": "9941963f-0cf3-43f3-84d7-9fb390f549d1",
   "metadata": {},
   "source": [
    "# 9. What is the difference between the logging and print statements in Python? When should you use logging over print statements in a real-world application?"
   ]
  },
  {
   "cell_type": "markdown",
   "id": "90515379-d989-4e47-ac2e-2c349a1ad1d5",
   "metadata": {},
   "source": [
    "# answer 9."
   ]
  },
  {
   "cell_type": "markdown",
   "id": "635439c2-d85d-466e-8eda-c29b4614ba17",
   "metadata": {},
   "source": [
    "#### Both logging and print statements in Python serve the purpose of producing output, but they are used in different contexts and have distinct features. Here are the key differences between logging and print statements:"
   ]
  },
  {
   "cell_type": "markdown",
   "id": "afff61d4-6d09-4a83-834c-55fecba6384b",
   "metadata": {},
   "source": [
    "##### Flexibility and Configuration:\r\n",
    "##### \r\n",
    "Print: The print statement is simple and direct. It outputs text to the console, and you have limited control over the formatting##### .\r\n",
    "Logging: The logging module is more flexible and configurable. It allows you to control where the log messages go (console, file, network, etc.), set different log levels, and format log messages in a structured w\n",
    "a#### y.\r\n",
    "Log Lev\n",
    "e##### ls:\r\n",
    "\r\n",
    "Print: There is no concept of log levels with print. All messages are printed to the con##### sole.\r\n",
    "Logging: The logging module provides log levels (DEBUG, INFO, WARNING, ERROR, CRITICAL), allowing you to categorize and prioritize log messages. This is valuable for differentiating between informational messages, warnings, and \n",
    "e##### rrors.\r\n",
    "Granular Co##### ntrol:\r\n",
    "\r\n",
    "Print: print statements are typically used for quick debugging or temporary output. They are often left in the code or removed ##### manually.\r\n",
    "Logging: Log statements can be left in the code, and their behavior can be adjusted dynamically through configuration. This is particularly useful for long-term maintenance, debugging in production, or capturing information for monitoring#####  purposes.\r\n",
    "Destination ##### of Output:\r\n",
    "\r\n",
    "Print: Output goes to the console by default, and it can be redirected to a file or ##### other stream.\r\n",
    "Logging: Output can be directed to multiple destinations (console, files, sockets, etc.) simultaneously using different handlers. This makes it easier to manage logs in various environments."
   ]
  },
  {
   "cell_type": "markdown",
   "id": "1a26ef89-7789-49fd-97fc-fae9d4b01d93",
   "metadata": {},
   "source": [
    "# 10. Write a Python program that logs a message to a file named \"app.log\" with the following requirements:\n",
    "## ● The log message should be \"Hello, World!\"\n",
    "## ● The log level should be set to \"INFO.\"\n",
    "## ● The log file should append new log entries without overwriting previous ones.\n",
    "\n"
   ]
  },
  {
   "cell_type": "code",
   "execution_count": 5,
   "id": "a2e66867-3cce-4e54-97a8-afb40d01fd08",
   "metadata": {},
   "outputs": [],
   "source": [
    "import logging\n",
    "\n",
    "# Configure the logging to write to a file named \"app.log\"\n",
    "logging.basicConfig(filename='app.log', level=logging.INFO, format='%(asctime)s - %(levelname)s - %(message)s')\n",
    "\n",
    "# Log the message \"Hello, World!\" with log level INFO\n",
    "logging.info('Hello, World!')\n"
   ]
  },
  {
   "cell_type": "markdown",
   "id": "2fd068a8-f01c-4064-81c9-29e32b4d25e1",
   "metadata": {},
   "source": [
    "# 11. Create a Python program that logs an error message to the console and a file named \"errors.log\" if an exception occurs during the program's execution. The error message should include the exception type and a timestamp."
   ]
  },
  {
   "cell_type": "code",
   "execution_count": 6,
   "id": "dd624971-8710-4edb-98d4-0c20b288809c",
   "metadata": {},
   "outputs": [],
   "source": [
    "import logging\n",
    "import traceback\n",
    "import sys\n",
    "\n",
    "def main():\n",
    "    # Configure logging to write to both console and a file named \"errors.log\"\n",
    "    logging.basicConfig(\n",
    "        level=logging.ERROR,\n",
    "        format='%(asctime)s - %(levelname)s - %(message)s',\n",
    "        handlers=[\n",
    "            logging.FileHandler('errors.log'),\n",
    "            logging.StreamHandler(sys.stdout)\n",
    "        ]\n",
    "    )\n",
    "\n",
    "    try:\n",
    "        # Code that may raise an exception\n",
    "        result = 1 / 0\n",
    "    except Exception as e:\n",
    "        # Log the exception with its type and a timestamp\n",
    "        logging.error(f'Exception Type: {type(e).__name__} - {str(e)}\\n{traceback.format_exc()}')\n",
    "\n",
    "if __name__ == \"__main__\":\n",
    "    main()\n"
   ]
  },
  {
   "cell_type": "code",
   "execution_count": null,
   "id": "0d7cdfc8-258c-4b93-9110-88b35a710bf7",
   "metadata": {},
   "outputs": [],
   "source": []
  }
 ],
 "metadata": {
  "kernelspec": {
   "display_name": "Python 3 (ipykernel)",
   "language": "python",
   "name": "python3"
  },
  "language_info": {
   "codemirror_mode": {
    "name": "ipython",
    "version": 3
   },
   "file_extension": ".py",
   "mimetype": "text/x-python",
   "name": "python",
   "nbconvert_exporter": "python",
   "pygments_lexer": "ipython3",
   "version": "3.12.0"
  }
 },
 "nbformat": 4,
 "nbformat_minor": 5
}
