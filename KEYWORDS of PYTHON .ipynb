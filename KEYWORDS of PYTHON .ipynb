{
 "cells": [
  {
   "cell_type": "markdown",
   "id": "29a65a64-fe5c-42a7-bc45-7621df792b0f",
   "metadata": {},
   "source": [
    "# Q.1. What are keywords in python? Using the keyword library, print all the python keywords"
   ]
  },
  {
   "cell_type": "markdown",
   "id": "c5f276d7-5ad6-4064-a0e2-f97f46ecfdc0",
   "metadata": {},
   "source": [
    "# answer 1:-\n",
    "## keyword in pyhon are the reserved words that cannot be used as the ordinary identifiers\n",
    "## they are used to define the syntex and structure of the python language"
   ]
  },
  {
   "cell_type": "code",
   "execution_count": 1,
   "id": "75fdbc41-09b6-4322-a2e3-2c545197224c",
   "metadata": {},
   "outputs": [
    {
     "name": "stdout",
     "output_type": "stream",
     "text": [
      "['False', 'None', 'True', 'and', 'as', 'assert', 'async', 'await', 'break', 'class', 'continue', 'def', 'del', 'elif', 'else', 'except', 'finally', 'for', 'from', 'global', 'if', 'import', 'in', 'is', 'lambda', 'nonlocal', 'not', 'or', 'pass', 'raise', 'return', 'try', 'while', 'with', 'yield']\n"
     ]
    }
   ],
   "source": [
    "#code for printing python\n",
    "import keyword\n",
    "print(keyword.kwlist)"
   ]
  },
  {
   "cell_type": "markdown",
   "id": "0d31a8e5-a308-41dd-83eb-68079fbaa2e2",
   "metadata": {},
   "source": [
    "# Q.2. What are the rules to create variables in python?\n"
   ]
  },
  {
   "cell_type": "markdown",
   "id": "d69d5ab5-204e-4985-8eaf-2d5efb7fa717",
   "metadata": {},
   "source": [
    "# answer 2:-"
   ]
  },
  {
   "cell_type": "markdown",
   "id": "de5c6715-c4be-424d-b7f8-977b62883c9c",
   "metadata": {},
   "source": [
    "## variables in python should always start with letters or underscore(_)\n",
    "## variable name cannot start with number \n",
    "## variable can only contain A-Z , a-z, 0-9 , _\n",
    "## variables in python are case senestive ex:- (sun ,Sun, and SUN are diffent variables)"
   ]
  },
  {
   "cell_type": "markdown",
   "id": "7961d759-1abd-4c00-829f-d688038d3752",
   "metadata": {},
   "source": [
    "# Q.3. What are the standards and conventions followed for the nomenclature of variables in python to improve code readability and maintainability?\r\n"
   ]
  },
  {
   "cell_type": "markdown",
   "id": "6d35b84d-f1ec-419d-8129-780b149c91b6",
   "metadata": {},
   "source": [
    "# answer 2:-"
   ]
  },
  {
   "cell_type": "markdown",
   "id": "49c47036-e55f-4476-9a2b-fd05309410c4",
   "metadata": {},
   "source": [
    "## Use grammatically correct variable names, the class name should start with an uppercase and must follow camelCase convention If more than two words are to be used. "
   ]
  },
  {
   "cell_type": "markdown",
   "id": "7c3b1702-6682-403c-8533-9b03205b63b4",
   "metadata": {},
   "source": [
    "# Q.4. What will happen if a keyword is used as a variable name?\r\n"
   ]
  },
  {
   "cell_type": "markdown",
   "id": "ad7016b0-0d83-45aa-a994-c13f3b4b9616",
   "metadata": {},
   "source": [
    "# answer 3:-"
   ]
  },
  {
   "cell_type": "code",
   "execution_count": 3,
   "id": "63860abf-2c25-4817-8328-f6702356dca6",
   "metadata": {},
   "outputs": [
    {
     "ename": "SyntaxError",
     "evalue": "invalid syntax (4080015933.py, line 2)",
     "output_type": "error",
     "traceback": [
      "\u001b[1;36m  Cell \u001b[1;32mIn[3], line 2\u001b[1;36m\u001b[0m\n\u001b[1;33m    def = [ 1,2,3,4]\u001b[0m\n\u001b[1;37m        ^\u001b[0m\n\u001b[1;31mSyntaxError\u001b[0m\u001b[1;31m:\u001b[0m invalid syntax\n"
     ]
    }
   ],
   "source": [
    "#ex:-\n",
    "def = [ 1,2,3,4]\n",
    "print(def)"
   ]
  },
  {
   "cell_type": "markdown",
   "id": "27358f63-2050-4b87-9b41-d1359dc2cbdd",
   "metadata": {},
   "source": [
    "## compiler will get confued weither to perform the keyword function or print the variable which leads to the error"
   ]
  },
  {
   "cell_type": "markdown",
   "id": "967381a9-c275-4df7-aa51-628ed0a24590",
   "metadata": {},
   "source": [
    "# Q.5. For what purpose def keyword is used?\n"
   ]
  },
  {
   "cell_type": "markdown",
   "id": "e7d46b85-e261-4441-8f8d-f74b111eb20d",
   "metadata": {},
   "source": [
    "# answer :-"
   ]
  },
  {
   "cell_type": "markdown",
   "id": "a83e66fd-f8ba-409c-91f2-f8639dfea13c",
   "metadata": {},
   "source": [
    "## def is used for defining function "
   ]
  },
  {
   "cell_type": "markdown",
   "id": "36c6c826-c467-4f94-872a-c2ddbd1a3493",
   "metadata": {},
   "source": [
    "# Q.6. What is the operation of this special character ‘\\’?\r\n"
   ]
  },
  {
   "cell_type": "markdown",
   "id": "d1014a46-18c6-44fa-97ff-706dbb011533",
   "metadata": {},
   "source": [
    "# answer 6:-"
   ]
  },
  {
   "cell_type": "markdown",
   "id": "44e8b939-5cca-4a1b-b0e0-8a0142158c9c",
   "metadata": {},
   "source": [
    "## '\\\\' is a special character ,aslo called the escape character ,it is used in representing certain whitespace character orto write the multi-line-statement"
   ]
  },
  {
   "cell_type": "markdown",
   "id": "6282ff2f-031f-48a2-a9ad-4c880347a917",
   "metadata": {},
   "source": [
    "# Q.7. Give an example of the following conditions:\n",
    "### (i) Homogeneous list (ii) Heterogeneous set (iii) Homogeneous tuple\r\n"
   ]
  },
  {
   "cell_type": "markdown",
   "id": "6b32ff25-40b9-47ea-a2c1-81ab031e5594",
   "metadata": {},
   "source": [
    "# answer 7:- "
   ]
  },
  {
   "cell_type": "code",
   "execution_count": 17,
   "id": "14e62008-2a8b-4e1e-acfe-9afd41727ab2",
   "metadata": {},
   "outputs": [
    {
     "name": "stdout",
     "output_type": "stream",
     "text": [
      "['apple', 'graphes', 'banana']\n",
      "{'apple', 22.3, 23}\n",
      "('apple', 'banana', 'graphes')\n"
     ]
    }
   ],
   "source": [
    "#(i) homogeneous list\n",
    "fruits= [\"apple\",\"graphes\",\"banana\"]\n",
    "print(fruits)\n",
    "\n",
    "#(ii) heterogeneous set\n",
    "set ={\"apple\",23,22.3}\n",
    "print(set)\n",
    "\n",
    "#(iii) homogeneous tuple\n",
    "tuple= (\"apple\",\"banana\",\"graphes\")\n",
    "print(tuple)"
   ]
  },
  {
   "cell_type": "markdown",
   "id": "f1caeea4-73b7-442f-9593-ba8df8058a43",
   "metadata": {},
   "source": [
    "# Q.8. Explain the mutable and immutable data types with proper explanation & examples.\r\n"
   ]
  },
  {
   "cell_type": "markdown",
   "id": "3ca66c65-ef75-49d8-b48b-c8fdb78edc89",
   "metadata": {},
   "source": [
    "# asnwer8:-"
   ]
  },
  {
   "cell_type": "markdown",
   "id": "ff95abe4-451e-47c2-8ecc-3d029bb5658b",
   "metadata": {},
   "source": [
    "## mutable are those which allow you to change their value or data in place without effecting the objects identity\n",
    "## in case of immutables these kind of changes are not allowed"
   ]
  },
  {
   "cell_type": "markdown",
   "id": "3795dbaa-7781-434d-acbd-f47ff6dcbc02",
   "metadata": {},
   "source": [
    "### examples for mutables :- lists,set ,dictionary\n",
    "### examples for immutables :- tuples , int ,float"
   ]
  },
  {
   "cell_type": "markdown",
   "id": "87080077-4185-42b3-9c07-323411d47651",
   "metadata": {},
   "source": [
    "# Q.9. Write a code to create the given structure using only for loop. \n",
    "#     * \n",
    "#    ***\n",
    "#   ***** \n",
    "#  ******* \n",
    "# *********\n"
   ]
  },
  {
   "cell_type": "code",
   "execution_count": 33,
   "id": "ee2eb441-ec6c-4a90-b579-37acc8068bb7",
   "metadata": {},
   "outputs": [
    {
     "name": "stdout",
     "output_type": "stream",
     "text": [
      "    * \n",
      "   * * \n",
      "  * * * \n",
      " * * * * \n",
      "* * * * * \n"
     ]
    }
   ],
   "source": [
    "# Python 3.x code to demonstrate star pattern\n",
    "\n",
    "# Function to demonstrate printing pattern triangle\n",
    "def triangle(n):\n",
    "\t\n",
    "\t# number of spaces\n",
    "\tk = n - 1\n",
    "\n",
    "\t# outer loop to handle number of rows\n",
    "\tfor i in range(0, n):\n",
    "\t\n",
    "\t\t# inner loop to handle number spaces\n",
    "\t\t# values changing acc. to requirement\n",
    "\t\tfor j in range(0, k):\n",
    "\t\t\tprint(end=\" \")\n",
    "\t\n",
    "\t\t# decrementing k after each loop\n",
    "\t\tk = k - 1\n",
    "\t\n",
    "\t\t# inner loop to handle number of columns\n",
    "\t\t# values changing acc. to outer loop\n",
    "\t\tfor j in range(0, i+1):\n",
    "\t\t\n",
    "\t\t\t# printing stars\n",
    "\t\t\tprint(\"* \", end=\"\")\n",
    "\t\n",
    "\t\t# ending line after each row\n",
    "\t\tprint(\"\\r\")\n",
    "\n",
    "# Driver Code\n",
    "n = 5\n",
    "triangle(n)\n"
   ]
  },
  {
   "cell_type": "markdown",
   "id": "2ac650b8-8aea-4a66-906f-13a3135a4cbf",
   "metadata": {},
   "source": [
    "# Q.10. Write a code to create the given structure using while loop.\n",
    "# ||||||||| \n",
    "#  ||||||| \n",
    "#   ||||| \n",
    "#    |||\n",
    "#     |"
   ]
  },
  {
   "cell_type": "code",
   "execution_count": 50,
   "id": "d2f5ed9b-ab82-4020-90f7-dfeca05fda23",
   "metadata": {},
   "outputs": [
    {
     "name": "stdin",
     "output_type": "stream",
     "text": [
      "Enter number of rows required:  5\n"
     ]
    },
    {
     "name": "stdout",
     "output_type": "stream",
     "text": [
      "|||||||||\n",
      " |||||||\n",
      "  |||||\n",
      "   |||\n",
      "    |\n"
     ]
    }
   ],
   "source": [
    "# Generating Inverse Pyramid Pattern Using Stars\n",
    "\n",
    "row = int(input('Enter number of rows required: '))\n",
    "\n",
    "for i in range(row,0,-1):\n",
    "    for j in range(row-i):\n",
    "        print(' ', end='') # printing space and staying in same line\n",
    "    \n",
    "    for j in range(2*i-1):\n",
    "        print('|',end='') # printing * and staying in same line\n",
    "    print() # printing new line"
   ]
  },
  {
   "cell_type": "code",
   "execution_count": null,
   "id": "1bf6399b-efdf-46a2-9efa-33f70a6167aa",
   "metadata": {},
   "outputs": [],
   "source": []
  }
 ],
 "metadata": {
  "kernelspec": {
   "display_name": "Python 3 (ipykernel)",
   "language": "python",
   "name": "python3"
  },
  "language_info": {
   "codemirror_mode": {
    "name": "ipython",
    "version": 3
   },
   "file_extension": ".py",
   "mimetype": "text/x-python",
   "name": "python",
   "nbconvert_exporter": "python",
   "pygments_lexer": "ipython3",
   "version": "3.12.0"
  }
 },
 "nbformat": 4,
 "nbformat_minor": 5
}
