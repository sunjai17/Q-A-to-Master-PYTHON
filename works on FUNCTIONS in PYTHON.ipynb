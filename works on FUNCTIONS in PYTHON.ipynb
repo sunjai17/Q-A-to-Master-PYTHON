{
 "cells": [
  {
   "cell_type": "markdown",
   "id": "53d4585b-1676-4496-bdac-9127a62223b3",
   "metadata": {},
   "source": [
    "# 1. In Python, what is the difference between a built-in function and a user-defined function? Provide an example of each."
   ]
  },
  {
   "cell_type": "markdown",
   "id": "7ee95dcb-48d4-49d8-a8da-d391c00f4035",
   "metadata": {},
   "source": [
    "# answer 1."
   ]
  },
  {
   "cell_type": "markdown",
   "id": "0f281de6-292b-495a-a8c5-9fccf4472b1b",
   "metadata": {},
   "source": [
    "### a built in function is a function which is already exist in the language without you having to define it where as user defined function is the one which you define on your own code\n",
    "\n",
    "#### example of user defined function is "
   ]
  },
  {
   "cell_type": "code",
   "execution_count": 1,
   "id": "655e0f78-108c-4c56-a949-806ae132625b",
   "metadata": {},
   "outputs": [
    {
     "name": "stdin",
     "output_type": "stream",
     "text": [
      "enter the number 55\n",
      "enter the number 45\n"
     ]
    },
    {
     "name": "stdout",
     "output_type": "stream",
     "text": [
      "the addition of  55 & 45 is:  100\n"
     ]
    }
   ],
   "source": [
    "def sum_fun():\n",
    "    num1= int(input(\"enter the number\"))\n",
    "    num2= int(input(\"enter the number\"))\n",
    "    #addition\n",
    "    result=num1 + num2\n",
    "    print(\"the addition of \", num1,\"&\",num2 ,\"is: \",result)\n",
    "\n",
    "sum_fun()\n",
    "    "
   ]
  },
  {
   "cell_type": "markdown",
   "id": "94dda0d4-491d-4206-a333-279a009dc29e",
   "metadata": {},
   "source": [
    "#### example of built in function is "
   ]
  },
  {
   "cell_type": "code",
   "execution_count": 3,
   "id": "da618758-5405-4f2a-b80e-20920790203f",
   "metadata": {},
   "outputs": [
    {
     "name": "stdout",
     "output_type": "stream",
     "text": [
      "hello world\n"
     ]
    }
   ],
   "source": [
    "print(\"hello world\") #here print is the built in function"
   ]
  },
  {
   "cell_type": "markdown",
   "id": "df182dc8-b21b-4f13-af2b-febd02f42955",
   "metadata": {},
   "source": [
    "# 2. How can you pass arguments to a function in Python? Explain the difference between positional arguments and keyword arguments."
   ]
  },
  {
   "cell_type": "markdown",
   "id": "3a7ab01a-0329-488f-b736-dc9e049a6645",
   "metadata": {},
   "source": [
    "# answer 2."
   ]
  },
  {
   "cell_type": "markdown",
   "id": "fc15acc0-3373-4421-a1ec-4ad88e7de2a5",
   "metadata": {},
   "source": [
    "### information can be passed into functions as arguments , argumnets are specified after the function name inside the parentheses,you can add as many argumnets as possible just seperate them with comma"
   ]
  },
  {
   "cell_type": "markdown",
   "id": "38e7902d-2101-467e-9d9b-9e4343907611",
   "metadata": {},
   "source": [
    "### positional arguments must be included in a correct order ,keywords are included with a keyword and equal sign "
   ]
  },
  {
   "cell_type": "markdown",
   "id": "e53c450e-0a4e-4691-bac2-e8fe2d61643a",
   "metadata": {},
   "source": [
    "# 3. What is the purpose of the return statement in a function? Can a function have multiple return statements? Explain with an example."
   ]
  },
  {
   "cell_type": "markdown",
   "id": "7a867fef-bf2c-4d6b-a4cb-df546468e4c7",
   "metadata": {},
   "source": [
    "# answer 3."
   ]
  },
  {
   "cell_type": "markdown",
   "id": "7d6bb5c5-5456-452b-95cd-c927d9144b44",
   "metadata": {},
   "source": [
    "#### the python return statement is used to return the output from a function basically  ends the execution of a function, and returns control to the calling function"
   ]
  },
  {
   "cell_type": "markdown",
   "id": "5903c9d2-e7e7-47d3-926b-dd10120d132f",
   "metadata": {},
   "source": [
    "### yes a function can have multiple return statements , and only one will run for a particular call of the function"
   ]
  },
  {
   "cell_type": "markdown",
   "id": "6cfd94f9-bc39-4da2-a7d2-bebc7986b5e9",
   "metadata": {},
   "source": [
    "### example :-"
   ]
  },
  {
   "cell_type": "code",
   "execution_count": 5,
   "id": "4d54b7a8-3ff1-4232-806a-1de4b0fb4161",
   "metadata": {},
   "outputs": [
    {
     "data": {
      "text/plain": [
       "'yes'"
      ]
     },
     "execution_count": 5,
     "metadata": {},
     "output_type": "execute_result"
    }
   ],
   "source": [
    "def canvote(n):\n",
    "    if n >= 18:\n",
    "        return \"yes\"\n",
    "    else :\n",
    "        return \"no\"\n",
    "\n",
    "canvote(19)"
   ]
  },
  {
   "cell_type": "code",
   "execution_count": 8,
   "id": "6a2293ab-ef1d-48bd-b644-27c853e82689",
   "metadata": {},
   "outputs": [
    {
     "data": {
      "text/plain": [
       "'no'"
      ]
     },
     "execution_count": 8,
     "metadata": {},
     "output_type": "execute_result"
    }
   ],
   "source": [
    "# or \n",
    "def canvot1(n):\n",
    "    return \"yes\" if n >= 18 else \"no\"\n",
    "\n",
    "canvot1(17)"
   ]
  },
  {
   "cell_type": "markdown",
   "id": "85369061-cdf7-4a8b-acb7-02a4925f68c6",
   "metadata": {},
   "source": [
    "# 4. What are lambda functions in Python? How are they different from regular functions? Provide an example where a lambda function can be useful."
   ]
  },
  {
   "cell_type": "markdown",
   "id": "2e5d3cd4-c7eb-4a19-87ff-6602e2c25bf5",
   "metadata": {},
   "source": [
    "# answer 4."
   ]
  },
  {
   "cell_type": "markdown",
   "id": "a0003ef1-a63b-4b9c-84ad-1985147bdc32",
   "metadata": {},
   "source": [
    "### a python lambda function behaves like a normal function in regard to argumnets"
   ]
  },
  {
   "cell_type": "markdown",
   "id": "0d626dbf-6b49-4e28-955e-9e05100a31d2",
   "metadata": {},
   "source": [
    "#### lambda function have more concise syntax then a regular function"
   ]
  },
  {
   "cell_type": "markdown",
   "id": "918051af-0598-4509-9e95-7b0a69340aea",
   "metadata": {},
   "source": [
    "# example"
   ]
  },
  {
   "cell_type": "code",
   "execution_count": 10,
   "id": "f6209036-99fe-4da9-975d-7cbb1779bf91",
   "metadata": {},
   "outputs": [
    {
     "name": "stdout",
     "output_type": "stream",
     "text": [
      "9\n"
     ]
    }
   ],
   "source": [
    "add = lambda x,y : x+y\n",
    "print(add(5,4))"
   ]
  },
  {
   "cell_type": "markdown",
   "id": "8e2b92e3-4c1f-4f56-a6f0-25b08199d0cd",
   "metadata": {},
   "source": [
    "# 5. How does the concept of \"scope\" apply to functions in Python? Explain the difference between local scope and global scope."
   ]
  },
  {
   "cell_type": "markdown",
   "id": "c30b0d5f-4439-4e74-9e99-47bc70dbf305",
   "metadata": {},
   "source": [
    "#### scoping in Python happens with whitespace. When we delineate the code a function contains by indenting it under a function definition, it's scope changes to a new internal scope."
   ]
  },
  {
   "cell_type": "markdown",
   "id": "3aad715e-d354-422f-a4a2-d98d60a67915",
   "metadata": {},
   "source": [
    "#### difference \n",
    "#### local scope :- it is the code block or body of any python function , these names will only be visiable from the code of the fucntion \n",
    "#### global scope :- this python scope contains all the names that you define at top level of the programm or a module"
   ]
  },
  {
   "cell_type": "markdown",
   "id": "3fd05255-a810-4757-a868-ce56fbb90525",
   "metadata": {},
   "source": [
    "# 6. How can you use the \"return\" statement in a Python function to return multiple values?"
   ]
  },
  {
   "cell_type": "markdown",
   "id": "d6f0a113-e0ea-41f3-a5b4-bf783eed113f",
   "metadata": {},
   "source": [
    "## using comma seperated values \n",
    "### in this method we use python to retuen multiple values my simply seperating them by commas"
   ]
  },
  {
   "cell_type": "markdown",
   "id": "f7e0c142-6b22-4b62-8f9d-5f304584a02f",
   "metadata": {},
   "source": [
    "# 7. What is the difference between the \"pass by value\" and \"pass by reference\" concepts when it comes to function arguments in Python?"
   ]
  },
  {
   "cell_type": "markdown",
   "id": "95a3e1cd-a1e6-4f43-8c54-ca0caa445cea",
   "metadata": {},
   "source": [
    "# answer 7."
   ]
  },
  {
   "cell_type": "markdown",
   "id": "5dc8ebc6-61be-4a5e-8f98-411bfefb84d5",
   "metadata": {},
   "source": [
    "### When you pass function arguments by reference, those arguments are only references to existing values. In contrast, when you pass arguments by value, those arguments become independent copies of the original values."
   ]
  },
  {
   "cell_type": "markdown",
   "id": "f02cd8b9-60cb-415c-9dea-091522fc2c1d",
   "metadata": {},
   "source": [
    "# 8. Create a function that can intake integer or decimal value and do following operations:\n",
    "#### a. Logarithmic function (log x)\n",
    "#### b. Exponential function (exp(x))\n",
    "#### c. Power function with base 2 (2^x)\n",
    "#### d. Square root"
   ]
  },
  {
   "cell_type": "code",
   "execution_count": 18,
   "id": "b069c915-1a6f-45ef-8f51-15af1d38a268",
   "metadata": {},
   "outputs": [
    {
     "data": {
      "text/plain": [
       "(4.394449154672439, 1.5060973145850306e+35, 2.4178516392292583e+24, 9.0)"
      ]
     },
     "execution_count": 18,
     "metadata": {},
     "output_type": "execute_result"
    }
   ],
   "source": [
    "import math\n",
    "def math_operations(num1):\n",
    "    log_results=math.log(num1)\n",
    "    expo_results=math.exp(num1)\n",
    "    pow_results=math.pow(2,num1)\n",
    "    sq_results=math.sqrt(num1)\n",
    "    return log_results,expo_results,pow_results,sq_results\n",
    "\n",
    "math_operations(81)"
   ]
  },
  {
   "cell_type": "markdown",
   "id": "58ff5ae3-deca-499a-be68-9e71c0d6a3b5",
   "metadata": {},
   "source": [
    "# 9. Create a function that takes a full name as an argument and returns first name and last name."
   ]
  },
  {
   "cell_type": "markdown",
   "id": "93329286-29da-43e1-b206-da071608f943",
   "metadata": {},
   "source": [
    "# answer 9."
   ]
  },
  {
   "cell_type": "code",
   "execution_count": 30,
   "id": "db45876e-5f17-4bbb-9f1f-5c9006a0eabe",
   "metadata": {},
   "outputs": [
    {
     "data": {
      "text/plain": [
       "('sanjay', 'kumar')"
      ]
     },
     "execution_count": 30,
     "metadata": {},
     "output_type": "execute_result"
    }
   ],
   "source": [
    "def extract_first_last_name(full_name):\n",
    "    # SPLIT THE FULL NAME INTO PARTS USING WHITESPACE\n",
    "    name_parts=full_name.split()\n",
    "    # THE FIRST NAME IS THE FIRST PART\n",
    "    first_name=name_parts[0] if name_parts else \" \"\n",
    "    # THE SECOND NAME IS THE SECOND PART\n",
    "    last_name = name_parts[-1] if len(name_parts) > 1 else \" \"\n",
    "    return first_name,last_name\n",
    "\n",
    "extract_first_last_name(\"sanjay kumar\")\n"
   ]
  },
  {
   "cell_type": "code",
   "execution_count": null,
   "id": "b78ef322-fad2-492e-b04c-4e58008852bd",
   "metadata": {},
   "outputs": [],
   "source": []
  }
 ],
 "metadata": {
  "kernelspec": {
   "display_name": "Python 3 (ipykernel)",
   "language": "python",
   "name": "python3"
  },
  "language_info": {
   "codemirror_mode": {
    "name": "ipython",
    "version": 3
   },
   "file_extension": ".py",
   "mimetype": "text/x-python",
   "name": "python",
   "nbconvert_exporter": "python",
   "pygments_lexer": "ipython3",
   "version": "3.12.0"
  }
 },
 "nbformat": 4,
 "nbformat_minor": 5
}
