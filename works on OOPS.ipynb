{
 "cells": [
  {
   "cell_type": "markdown",
   "id": "10cd6901-b804-4077-8847-df9fbe3c9b86",
   "metadata": {},
   "source": [
    "# 01- JULY - ASSIGNMENT ON OOPS (OBJECT ORIENTED PROGRAMMING)"
   ]
  },
  {
   "cell_type": "markdown",
   "id": "197fc2a1-7bd9-45a1-b257-77c246a1d85b",
   "metadata": {},
   "source": [
    "# 1. What is the primary goal of Object-Oriented Programming (OOP)?"
   ]
  },
  {
   "cell_type": "markdown",
   "id": "67cdd29c-6349-4470-936f-bf40bcf5b6fe",
   "metadata": {},
   "source": [
    "### To hold the entire data into a single object so that it would be easy to pass this to other methods and object"
   ]
  },
  {
   "cell_type": "markdown",
   "id": "baef2392-cdbb-4faa-904c-167a8a3771b3",
   "metadata": {},
   "source": [
    "# 2. What is an object in Python?"
   ]
  },
  {
   "cell_type": "markdown",
   "id": "87fd01ee-a526-4850-add9-24b5e9dbebae",
   "metadata": {},
   "source": [
    "### OBJECTS = these are python's abstraction for data\n",
    "### objects are variables that contain data and functions that can be used to manipulate the data"
   ]
  },
  {
   "cell_type": "markdown",
   "id": "b8f3d265-5824-43ca-b44c-0835d2cabb55",
   "metadata": {},
   "source": [
    "# 3. What is a class in Python?"
   ]
  },
  {
   "cell_type": "markdown",
   "id": "00098ede-ffff-4f28-9580-606d62e7c969",
   "metadata": {},
   "source": [
    "### CLASS = Provide a means of bundling data and functionality together\n",
    "### it is a type of code which is used to creat object which have variables with them"
   ]
  },
  {
   "cell_type": "markdown",
   "id": "7fb63084-43b4-4d7f-8fa1-34b2803a1460",
   "metadata": {},
   "source": [
    "# 4. What are attributes and methods in a class?"
   ]
  },
  {
   "cell_type": "markdown",
   "id": "3ac487d7-fd3f-465f-a5f8-6e3971ef31e3",
   "metadata": {},
   "source": [
    "### Class Attributes are the attributes that belong to the class itself rather than a particular object\n",
    "### Class methods are the functions which are associated with an object or a class in python"
   ]
  },
  {
   "cell_type": "markdown",
   "id": "b7b18bac-c03c-4922-b7d9-f9c919232c34",
   "metadata": {},
   "source": [
    "# 5. What is the difference between class variables and instance variables in Python?"
   ]
  },
  {
   "cell_type": "markdown",
   "id": "7c6630d7-3b69-4ff8-be50-2c1aa6714b84",
   "metadata": {},
   "source": [
    "### class variables are shared accross all instance of a class , while instance variable are unique to each instance"
   ]
  },
  {
   "cell_type": "markdown",
   "id": "21a10c8f-94bc-4e66-b319-98b5b5fb0175",
   "metadata": {},
   "source": [
    "# 6. What is the purpose of the self parameter in Python class methods?"
   ]
  },
  {
   "cell_type": "markdown",
   "id": "1573da6f-0822-4df5-89f9-ff3c6637c9d6",
   "metadata": {},
   "source": [
    "### The self is used to represent the instance of the class. With this keyword, you can access the attributes and methods of the class in python. It binds the attributes with the given arguments. The reason why we use self is that Python does not use the '@' or \"name\" syntax to refer to instance attributes."
   ]
  },
  {
   "cell_type": "markdown",
   "id": "9e406775-2aa8-460a-b75f-95d66dbdf71b",
   "metadata": {},
   "source": [
    "# 7. For a library management system, you have to design the \"Book\" class with OOP principles in mind. The “Book” class will have following attributes:\n",
    "#### a. title: Represents the title of the book.\n",
    "#### b. author: Represents the author(s) of the book.\n",
    "#### c. isbn: Represents the ISBN (International Standard Book Number) of the book.\n",
    "#### d. publication_year: Represents the year of publication of the book.\n",
    "#### e. available_copies: Represents the number of copies available for checkout.\n",
    "## The class will also include the following methods:\n",
    "#### a. check_out(self): Decrements the available copies by one if there are copies available for checkout.\n",
    "#### b. return_book(self): Increments the available copies by one when a book is returned.\n",
    "#### c. display_book_info(self): Displays the information about the book, including its attributes and the number of available copies."
   ]
  },
  {
   "cell_type": "markdown",
   "id": "65681350-5c58-44cd-b737-25771c5c3168",
   "metadata": {},
   "source": [
    "# answer 7."
   ]
  },
  {
   "cell_type": "code",
   "execution_count": 15,
   "id": "d2b21490-efac-4c7f-90f1-d283319b119f",
   "metadata": {},
   "outputs": [],
   "source": [
    "class BOOK:\n",
    "    def __init__(self,title,author,isbn,published_year,avail_copies):\n",
    "        self.title=title\n",
    "        self.author=author\n",
    "        self.isbn=isbn #(international standard book number)\n",
    "        self.published_year=published_year\n",
    "        self.avail_copies=avail_copies\n",
    "\n",
    "    def return_book(self,return_book):\n",
    "        self.avail_copies = self.avail_copies + return_book\n",
    "\n",
    "    def check_out(self,check_out):\n",
    "        if self.avail_copies > 0 :\n",
    "            self.avail_copies= self.avail_copies - check_out\n",
    "        else :\n",
    "            print(f\"the Book {self.title} written by {self.author} is out of stock\")\n",
    "\n",
    "    def display_book_info(self):\n",
    "        print(f\"We have {self.avail_copies} copies of the Book which is titled as  {self.title} written by {self.author} #{self.isbn} which was published in the year {self.published_year}\")"
   ]
  },
  {
   "cell_type": "code",
   "execution_count": 16,
   "id": "b92e4b63-517c-48d8-a640-828f50861e05",
   "metadata": {},
   "outputs": [],
   "source": [
    "dune= BOOK('Dune','Frank Hearbert',235571,2018,17)"
   ]
  },
  {
   "cell_type": "code",
   "execution_count": 17,
   "id": "67adbe78-6bc8-47ce-adb1-4718723a73ae",
   "metadata": {},
   "outputs": [
    {
     "data": {
      "text/plain": [
       "17"
      ]
     },
     "execution_count": 17,
     "metadata": {},
     "output_type": "execute_result"
    }
   ],
   "source": [
    "# to check the current available copies of dune\n",
    "dune.avail_copies"
   ]
  },
  {
   "cell_type": "code",
   "execution_count": 18,
   "id": "4a8e4c9d-5853-4181-a95d-44126f9bba53",
   "metadata": {},
   "outputs": [],
   "source": [
    "# 3 students returning the dune book back to libarary\n",
    "dune.return_book(3)"
   ]
  },
  {
   "cell_type": "code",
   "execution_count": 19,
   "id": "5e6e23f1-0fe7-4e4d-a943-00a93faa28dd",
   "metadata": {},
   "outputs": [
    {
     "data": {
      "text/plain": [
       "20"
      ]
     },
     "execution_count": 19,
     "metadata": {},
     "output_type": "execute_result"
    }
   ],
   "source": [
    "#current available dune copies\n",
    "dune.avail_copies"
   ]
  },
  {
   "cell_type": "code",
   "execution_count": 20,
   "id": "68805771-704f-4b92-b04b-7b9d08121297",
   "metadata": {},
   "outputs": [],
   "source": [
    "# again 7 people borrow dune book from library \n",
    "dune.check_out(7)"
   ]
  },
  {
   "cell_type": "code",
   "execution_count": 21,
   "id": "49015d55-4e1e-493b-9b7b-48da99aeea23",
   "metadata": {},
   "outputs": [
    {
     "data": {
      "text/plain": [
       "13"
      ]
     },
     "execution_count": 21,
     "metadata": {},
     "output_type": "execute_result"
    }
   ],
   "source": [
    "#current avaible copies of dune \n",
    "dune.avail_copies"
   ]
  },
  {
   "cell_type": "code",
   "execution_count": 22,
   "id": "9bdb16da-4d54-4e29-9b4d-b59cbb7d1cec",
   "metadata": {},
   "outputs": [
    {
     "name": "stdout",
     "output_type": "stream",
     "text": [
      "We have 13 copies of the Book which is titled as  Dune written by Frank Hearbert #235571 which was published in the year 2018\n"
     ]
    }
   ],
   "source": [
    "#summary of dune book\n",
    "dune.display_book_info()"
   ]
  },
  {
   "cell_type": "markdown",
   "id": "fc0145e8-cc62-4fbc-b682-5b3721faec2d",
   "metadata": {},
   "source": [
    "# 8. For a ticket booking system, you have to design the \"Ticket\" class with OOP principles in mind. The “Ticket” class should have the following attributes:\n",
    "#### a. ticket_id: Represents the unique identifier for the ticket.\n",
    "#### b. event_name: Represents the name of the event.\n",
    "#### c. event_date: Represents the date of the event.\n",
    "#### d. venue: Represents the venue of the event.\n",
    "#### e. seat_number: Represents the seat number associated with the ticket.\n",
    "#### f. price: Represents the price of the ticket.\n",
    "#### g. is_reserved: Represents the reservation status of the ticket.\n",
    "## The class also includes the following methods:\n",
    "#### a. reserve_ticket(self): Marks the ticket as reserved if it is not already reserved.\n",
    "#### b. cancel_reservation(self): Cancels the reservation of the ticket if it is already reserved.\n",
    "#### c. display_ticket_info(self): Displays the information about the ticket, including its attributes and reservation status."
   ]
  },
  {
   "cell_type": "markdown",
   "id": "57b1c87a-cece-497c-8e2e-1fda661f8324",
   "metadata": {},
   "source": [
    "# answer 8."
   ]
  },
  {
   "cell_type": "code",
   "execution_count": 34,
   "id": "3cd848a0-8232-48d5-bd2b-4fefd9fa4867",
   "metadata": {},
   "outputs": [],
   "source": [
    "class Ticket:\n",
    "    def __init__(self,id,name,date,venue,seat_no,price,is_reserved):\n",
    "        self.id=id\n",
    "        self.name=name\n",
    "        self.date=date\n",
    "        self.venue=venue\n",
    "        self.seat_no=seat_no\n",
    "        self.price=price\n",
    "        self.is_reserved= False\n",
    "\n",
    "    def reserve_ticket(self):\n",
    "        if not self.is_reserved :\n",
    "            self.is_reserved = True\n",
    "            print(f\" Ticket {self.id} has been reserved\")\n",
    "        else :\n",
    "            print(f\"Ticket {self.id} is already reserved\")\n",
    "        \n",
    "    def cancel_reservation(self):\n",
    "        if self.is_reserved:\n",
    "            self.is_reserved = False\n",
    "            print(f\"Reservation for Ticket {self.id} has been canceled.\")\n",
    "        else:\n",
    "            print(f\"Ticket {self.id} is not reserved.\")\n",
    "\n",
    "    def display_ticket_info(self):\n",
    "        print(f\" The ticket ID {self.id} of name {self.name} on {self.date} to {self.venue} with price {self.price} of seat no: {self.seat_no} is  {'Reserved' if self.is_reserved else 'Not Reserved'}\")\n"
   ]
  },
  {
   "cell_type": "code",
   "execution_count": 41,
   "id": "354d6808-bd8a-4fb4-a2d3-03c48de69d1a",
   "metadata": {},
   "outputs": [],
   "source": [
    "tic1=Ticket(23,\"Sanju\",\"17/11/2023\",\"Mysuru\",73,899,True)"
   ]
  },
  {
   "cell_type": "code",
   "execution_count": 42,
   "id": "ce80899f-347f-483b-a1dc-968533225d62",
   "metadata": {},
   "outputs": [
    {
     "name": "stdout",
     "output_type": "stream",
     "text": [
      " Ticket 23 has been reserved\n"
     ]
    }
   ],
   "source": [
    "tic1.reserve_ticket()"
   ]
  },
  {
   "cell_type": "code",
   "execution_count": 43,
   "id": "6e56e85c-edd1-4c8e-9ab4-10e74d31e0b9",
   "metadata": {},
   "outputs": [
    {
     "name": "stdout",
     "output_type": "stream",
     "text": [
      "Reservation for Ticket 23 has been canceled.\n"
     ]
    }
   ],
   "source": [
    "tic1.cancel_reservation()"
   ]
  },
  {
   "cell_type": "code",
   "execution_count": 44,
   "id": "e4a648b1-f64f-45bb-a6ec-a173fb64ea5d",
   "metadata": {},
   "outputs": [
    {
     "name": "stdout",
     "output_type": "stream",
     "text": [
      " Ticket 23 has been reserved\n"
     ]
    }
   ],
   "source": [
    "tic1.reserve_ticket()"
   ]
  },
  {
   "cell_type": "code",
   "execution_count": 45,
   "id": "499d6871-ed4f-41ec-b645-4805a3756b4f",
   "metadata": {},
   "outputs": [
    {
     "name": "stdout",
     "output_type": "stream",
     "text": [
      " The ticket ID 23 of name Sanju on 17/11/2023 to Mysuru with price 899 of seat no: 73 is  Reserved\n"
     ]
    }
   ],
   "source": [
    "tic1.display_ticket_info()"
   ]
  },
  {
   "cell_type": "markdown",
   "id": "20c59401-2657-47ce-ad1e-7fa49941405a",
   "metadata": {},
   "source": [
    "# 9. You are creating a shopping cart for an e-commerce website. Using OOP to model the \"ShoppingCart\" functionality the class should contain following attributes and methods:\n",
    "### a. items: Represents the list of items in the shopping cart. The class also includes the following methods:\n",
    "\n",
    "#### a. add_item(self, item): Adds an item to the shopping cart by appending it to the list of items.\n",
    "#### b. remove_item(self, item): Removes an item from the shopping cart if it exists in the list.\n",
    "#### c. view_cart(self): Displays the items currently present in the shopping cart.\n",
    "#### d. clear_cart(self): Clears all items from the shopping cart by reassigning an empty list to the items attribute."
   ]
  },
  {
   "cell_type": "markdown",
   "id": "432fed98-7f8c-4048-8209-bfafa84da05d",
   "metadata": {},
   "source": [
    "# answer 9."
   ]
  },
  {
   "cell_type": "code",
   "execution_count": 35,
   "id": "a609b32b-4bf1-4af9-a766-1ec3178bc880",
   "metadata": {},
   "outputs": [],
   "source": [
    "class ShoppingCart:\n",
    "    def __init__(self):\n",
    "        self.items=[]\n",
    "\n",
    "    def add_items(self,item):\n",
    "        self.items.append(item)\n",
    "        print(f\" {item} added to the shopping cart\")\n",
    "\n",
    "    def remove_item(self,item):\n",
    "        if item in self.items :\n",
    "            self.items.remove(item)\n",
    "            print(f\"{item} is removed from the shopping cart\")\n",
    "        else:\n",
    "            print(f\"{item} not found in the shopping cart\")\n",
    "\n",
    "    def view_cart(self):\n",
    "        if not self.items:\n",
    "            print(\"The shopping cart is empty.\")\n",
    "        else:\n",
    "            print(\"Items in the shopping cart:\")\n",
    "            for item in self.items:\n",
    "                print(f\"- {item}\")\n",
    "                \n",
    "    def clear_cart(self):\n",
    "        self.items = []\n",
    "        print(\"Shopping cart cleared.\")\n",
    "    "
   ]
  },
  {
   "cell_type": "code",
   "execution_count": 36,
   "id": "b17ae3c3-fbce-4966-98c6-1c2ada99fe89",
   "metadata": {},
   "outputs": [],
   "source": [
    "cart=ShoppingCart()"
   ]
  },
  {
   "cell_type": "code",
   "execution_count": 37,
   "id": "2dd8102d-dc6d-4ced-96ae-8e04a061589c",
   "metadata": {},
   "outputs": [
    {
     "name": "stdout",
     "output_type": "stream",
     "text": [
      " bun added to the shopping cart\n"
     ]
    }
   ],
   "source": [
    "cart.add_items(\"bun\")"
   ]
  },
  {
   "cell_type": "code",
   "execution_count": 38,
   "id": "2fbacc0d-06df-4118-9ece-41b14706719c",
   "metadata": {},
   "outputs": [
    {
     "name": "stdout",
     "output_type": "stream",
     "text": [
      " sugar added to the shopping cart\n"
     ]
    }
   ],
   "source": [
    "cart.add_items(\"sugar\")"
   ]
  },
  {
   "cell_type": "code",
   "execution_count": 39,
   "id": "a3c3604f-015c-4570-b8a8-b7e2f6966585",
   "metadata": {},
   "outputs": [
    {
     "name": "stdout",
     "output_type": "stream",
     "text": [
      " soaps added to the shopping cart\n"
     ]
    }
   ],
   "source": [
    "cart.add_items(\"soaps\")"
   ]
  },
  {
   "cell_type": "code",
   "execution_count": 40,
   "id": "9925f61c-80d5-48bb-bc73-842fe69a6c71",
   "metadata": {},
   "outputs": [
    {
     "name": "stdout",
     "output_type": "stream",
     "text": [
      "Items in the shopping cart:\n",
      "- bun\n",
      "- sugar\n",
      "- soaps\n"
     ]
    }
   ],
   "source": [
    "cart.view_cart()"
   ]
  },
  {
   "cell_type": "code",
   "execution_count": 41,
   "id": "2be504a8-e99c-4fe8-9eae-962ad2d9a88d",
   "metadata": {},
   "outputs": [
    {
     "name": "stdout",
     "output_type": "stream",
     "text": [
      "bun is removed from the shopping cart\n"
     ]
    }
   ],
   "source": [
    "cart.remove_item(\"bun\")"
   ]
  },
  {
   "cell_type": "code",
   "execution_count": 42,
   "id": "2f1f4bf1-e729-4a7c-9234-49979ca0dd22",
   "metadata": {},
   "outputs": [
    {
     "name": "stdout",
     "output_type": "stream",
     "text": [
      "Items in the shopping cart:\n",
      "- sugar\n",
      "- soaps\n"
     ]
    }
   ],
   "source": [
    "cart.view_cart()"
   ]
  },
  {
   "cell_type": "code",
   "execution_count": 44,
   "id": "c7c63e7b-1ecc-43ca-bbaf-7f26e961959d",
   "metadata": {},
   "outputs": [
    {
     "name": "stdout",
     "output_type": "stream",
     "text": [
      "plate not found in the shopping cart\n"
     ]
    }
   ],
   "source": [
    "cart.remove_item(\"plate\")"
   ]
  },
  {
   "cell_type": "code",
   "execution_count": 45,
   "id": "80612b75-46c2-4408-bb92-f57083a30e4f",
   "metadata": {},
   "outputs": [
    {
     "name": "stdout",
     "output_type": "stream",
     "text": [
      "Items in the shopping cart:\n",
      "- sugar\n",
      "- soaps\n"
     ]
    }
   ],
   "source": [
    "cart.view_cart()"
   ]
  },
  {
   "cell_type": "code",
   "execution_count": 46,
   "id": "386332a2-b63a-4d19-a808-4fdef4a76daf",
   "metadata": {},
   "outputs": [
    {
     "name": "stdout",
     "output_type": "stream",
     "text": [
      "Shopping cart cleared.\n"
     ]
    }
   ],
   "source": [
    "cart.clear_cart()"
   ]
  },
  {
   "cell_type": "markdown",
   "id": "9f08bb3f-d0dc-46a6-8b96-52440fdc9660",
   "metadata": {},
   "source": [
    "# 10. Imagine a school management system. You have to design the \"Student\" class using OOP concepts.The “Student” class has the following attributes:\n",
    "#### a. name: Represents the name of the student.\n",
    "#### b. age: Represents the age of the student.\n",
    "#### c. grade: Represents the grade or class of the student.\n",
    "#### d. student_id: Represents the unique identifier for the student.\n",
    "#### e. attendance: Represents the attendance record of the student.\n",
    "## The class should also include the following methods:\n",
    "#### a. update_attendance(self, date, status): Updates the attendance record of the student for a given date with the provided status (e.g., present or absent).\n",
    "#### b. get_attendance(self): Returns the attendance record of the student.\n",
    "#### c. get_average_attendance(self): Calculates and returns the average attendance percentage of the student based on their attendance record."
   ]
  },
  {
   "cell_type": "markdown",
   "id": "e5a52f23-dc11-4567-917f-42cef72337f4",
   "metadata": {},
   "source": [
    "# answer 10."
   ]
  },
  {
   "cell_type": "code",
   "execution_count": 47,
   "id": "917ba85d-89cf-4361-977a-222a8c5daa90",
   "metadata": {},
   "outputs": [],
   "source": [
    "class Student:\n",
    "    def __init__(self, name, age, grade, student_id):\n",
    "        self.name = name\n",
    "        self.age = age\n",
    "        self.grade = grade\n",
    "        self.student_id = student_id\n",
    "        self.attendance = {}\n",
    "\n",
    "    def update_attendance(self, date, status):\n",
    "        # Update the attendance record for the given date with the provided status\n",
    "        self.attendance[date] = status\n",
    "        print(f\"Attendance updated for {self.name} on {date}: {status}\")\n",
    "\n",
    "    def get_attendance(self):\n",
    "        # Return the attendance record of the student\n",
    "        return self.attendance\n",
    "\n",
    "    def get_average_attendance(self):\n",
    "        # Calculate and return the average attendance percentage of the student\n",
    "        total_days = len(self.attendance)\n",
    "        if total_days == 0:\n",
    "            return 0  # Avoid division by zero\n",
    "\n",
    "        present_days = sum(1 for status in self.attendance.values() if status.lower() == 'present')\n",
    "        average_attendance = (present_days / total_days) * 100\n",
    "        return average_attendance\n"
   ]
  },
  {
   "cell_type": "code",
   "execution_count": 48,
   "id": "e614fa8d-c8c8-46c5-b963-2c2ec7a92d82",
   "metadata": {},
   "outputs": [],
   "source": [
    "student1=Student(\"sanju\",23,\"A\",70170)"
   ]
  },
  {
   "cell_type": "code",
   "execution_count": 49,
   "id": "554b36e6-cdf6-4d45-8b7c-451ea395c0c3",
   "metadata": {},
   "outputs": [
    {
     "name": "stdout",
     "output_type": "stream",
     "text": [
      "Attendance updated for sanju on 17/11/2023: present\n"
     ]
    }
   ],
   "source": [
    "student1.update_attendance(\"17/11/2023\",\"present\")"
   ]
  },
  {
   "cell_type": "code",
   "execution_count": 50,
   "id": "87443bc4-9300-48c6-8164-e50b825886b8",
   "metadata": {},
   "outputs": [
    {
     "data": {
      "text/plain": [
       "{'17/11/2023': 'present'}"
      ]
     },
     "execution_count": 50,
     "metadata": {},
     "output_type": "execute_result"
    }
   ],
   "source": [
    "student1.get_attendance()"
   ]
  },
  {
   "cell_type": "code",
   "execution_count": 51,
   "id": "ab8d3aad-b86e-460d-a623-22d3d4954473",
   "metadata": {},
   "outputs": [
    {
     "data": {
      "text/plain": [
       "100.0"
      ]
     },
     "execution_count": 51,
     "metadata": {},
     "output_type": "execute_result"
    }
   ],
   "source": [
    "student1.get_average_attendance()"
   ]
  },
  {
   "cell_type": "code",
   "execution_count": null,
   "id": "e0ee1df9-0927-41c4-9838-ac0520b446d0",
   "metadata": {},
   "outputs": [],
   "source": []
  }
 ],
 "metadata": {
  "kernelspec": {
   "display_name": "Python 3 (ipykernel)",
   "language": "python",
   "name": "python3"
  },
  "language_info": {
   "codemirror_mode": {
    "name": "ipython",
    "version": 3
   },
   "file_extension": ".py",
   "mimetype": "text/x-python",
   "name": "python",
   "nbconvert_exporter": "python",
   "pygments_lexer": "ipython3",
   "version": "3.12.0"
  }
 },
 "nbformat": 4,
 "nbformat_minor": 5
}
