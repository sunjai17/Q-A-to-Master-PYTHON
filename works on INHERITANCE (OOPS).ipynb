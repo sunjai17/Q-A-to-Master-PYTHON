{
 "cells": [
  {
   "cell_type": "markdown",
   "id": "49dd29ac-c536-4f6a-9bb8-cf7fc4faebbb",
   "metadata": {},
   "source": [
    "# 02 JULY OOPs INHERITANCE ASSIGNMENT"
   ]
  },
  {
   "cell_type": "markdown",
   "id": "de030702-9e31-4a0e-bd13-0552e15016a0",
   "metadata": {},
   "source": [
    "# 1. Explain what inheritance is in object-oriented programming and why it is used."
   ]
  },
  {
   "cell_type": "markdown",
   "id": "3b01df13-75ff-477d-b3a7-10652f1fcc55",
   "metadata": {},
   "source": [
    "# answer 1."
   ]
  },
  {
   "cell_type": "markdown",
   "id": "f01668d1-0210-4fcc-8e19-ec3fa4a64c36",
   "metadata": {},
   "source": [
    "#### In object-oriented programming (OOP), inheritance is a mechanism that allows a new class, called a subclass or derived class, to inherit attributes and behaviors from an existing class, known as a superclass or base class.\n",
    "#### This relationship enables the subclass to reuse code from the superclass, promoting code reusability and establishing a hierarchical structure among classes."
   ]
  },
  {
   "cell_type": "markdown",
   "id": "77ceb46b-e339-4f72-9b4f-d4235344f3a1",
   "metadata": {},
   "source": [
    "# 2. Discuss the concept of single inheritance and multiple inheritance, highlighting their differences and advantages.\n"
   ]
  },
  {
   "cell_type": "markdown",
   "id": "e48f35bb-d84a-4e03-a1d1-b98fe93b89c6",
   "metadata": {},
   "source": [
    "# single inheritance "
   ]
  },
  {
   "cell_type": "markdown",
   "id": "01a2c27b-56dd-4d26-ab35-f5d8dd7869b5",
   "metadata": {},
   "source": [
    "#### It refers to the concept where a class can inherit properties and behaviours from only one super class"
   ]
  },
  {
   "cell_type": "code",
   "execution_count": 6,
   "id": "dadeb2fa-af26-411b-b72f-b108da5fdf68",
   "metadata": {},
   "outputs": [],
   "source": [
    "class vehical:\n",
    "    def sound(self):\n",
    "        pass\n",
    "\n",
    "class car(vehical):\n",
    "    def noisy(self):\n",
    "        print(\"ratatata\")"
   ]
  },
  {
   "cell_type": "code",
   "execution_count": 7,
   "id": "da4c073f-e318-4882-bde7-b61b69962b7f",
   "metadata": {},
   "outputs": [],
   "source": [
    "Car=car()"
   ]
  },
  {
   "cell_type": "code",
   "execution_count": 8,
   "id": "296e2c01-6521-4f27-97b1-8025c819516f",
   "metadata": {},
   "outputs": [],
   "source": [
    "Car.sound()"
   ]
  },
  {
   "cell_type": "code",
   "execution_count": 9,
   "id": "55f768c0-8d55-44f1-b82a-0e8c04709ddb",
   "metadata": {},
   "outputs": [
    {
     "name": "stdout",
     "output_type": "stream",
     "text": [
      "ratatata\n"
     ]
    }
   ],
   "source": [
    "Car.noisy()"
   ]
  },
  {
   "cell_type": "markdown",
   "id": "e09088a4-1c6c-4a8b-a2af-c8bb344d512f",
   "metadata": {},
   "source": [
    "# multiple inheritance"
   ]
  },
  {
   "cell_type": "markdown",
   "id": "0ccd9d2c-2f24-4a8b-bd78-11e32cb91d48",
   "metadata": {},
   "source": [
    "#### it refers to allow a class to inherit properties from  more than one super class , this means a subclass can have multiple super class"
   ]
  },
  {
   "cell_type": "code",
   "execution_count": 10,
   "id": "d22d4a43-c08d-46a7-9fbd-d7022eacb7e2",
   "metadata": {},
   "outputs": [],
   "source": [
    "class vehical:\n",
    "    def sound(self):\n",
    "        pass\n",
    "\n",
    "class model:\n",
    "    def year(self):\n",
    "        pass\n",
    "\n",
    "class car(vehical,model):\n",
    "    def sound(self):\n",
    "        print(\"ratatatata\")"
   ]
  },
  {
   "cell_type": "code",
   "execution_count": 11,
   "id": "6dbb5f1e-c25b-4c45-8979-dac794b58524",
   "metadata": {},
   "outputs": [],
   "source": [
    "bmw=car()"
   ]
  },
  {
   "cell_type": "code",
   "execution_count": 12,
   "id": "b66ea73e-b976-4996-9fd3-a45e6403bf00",
   "metadata": {},
   "outputs": [
    {
     "name": "stdout",
     "output_type": "stream",
     "text": [
      "ratatatata\n"
     ]
    }
   ],
   "source": [
    "bmw.sound()"
   ]
  },
  {
   "cell_type": "code",
   "execution_count": 13,
   "id": "a833a3b1-c616-494a-bed9-158b41bd2ae4",
   "metadata": {},
   "outputs": [],
   "source": [
    "bmw.year()"
   ]
  },
  {
   "cell_type": "markdown",
   "id": "5cf3b444-0bb3-4e01-9d5f-14c5b564d047",
   "metadata": {},
   "source": [
    "# 3. Explain the terms \"base class\" and \"derived class\" in the context of inheritance."
   ]
  },
  {
   "cell_type": "markdown",
   "id": "78da9a75-25bf-4bfa-964d-b82295827c8f",
   "metadata": {},
   "source": [
    "# BASE CLASS"
   ]
  },
  {
   "cell_type": "markdown",
   "id": "bc812378-d676-4d7a-a023-2cd943494128",
   "metadata": {},
   "source": [
    "### A base class is the class whose properties and methods are inherited by another class. It serves as a template or blueprint for the derived class.\n",
    "### The base class is sometimes referred to as the superclass, parent class, or generalization.\n",
    "### It contains common attributes and behaviors that are shared by one or more subclasses.."
   ]
  },
  {
   "cell_type": "markdown",
   "id": "6195b950-7c60-4c89-93b0-a26791709540",
   "metadata": {},
   "source": [
    "# DERIVED CLASS"
   ]
  },
  {
   "cell_type": "markdown",
   "id": "1a9ab555-bdd4-4d96-ab7c-1e6d44ba7fa6",
   "metadata": {},
   "source": [
    "### A derived class is the class that inherits properties and methods from a base class. It can also have additional attributes or behaviors or override existing ones.\n",
    "### The derived class is sometimes referred to as the subclass, child class, or specialization.\n",
    "### It extends or specializes the functionality of the base class by adding new features or modifying existing ones. . "
   ]
  },
  {
   "cell_type": "markdown",
   "id": "c6280c61-3afa-4078-9b17-fac99d9cfba8",
   "metadata": {},
   "source": [
    "# 4. What is the significance of the \"protected\" access modifier in inheritance? How does it differ from \"private\" and \"public\" modifiers? "
   ]
  },
  {
   "cell_type": "markdown",
   "id": "c49c8b21-3dcd-4c14-aa0b-386e288f3e7c",
   "metadata": {},
   "source": [
    "# answer 4."
   ]
  },
  {
   "cell_type": "markdown",
   "id": "82fa8dcb-08d8-4ccd-8fc3-67ab7c55bbea",
   "metadata": {},
   "source": [
    "### PROTECTED access modifiers in inheritance\n",
    "#### Members with the \"protected\" access modifier are accessible within the class that defines them and its subclasses (derived classes).\n",
    "#### Protected members are not directly accessible from outside the class or its subclasses."
   ]
  },
  {
   "cell_type": "markdown",
   "id": "f197a460-b257-4d30-a5fe-2271a56c83c2",
   "metadata": {},
   "source": [
    "### Public: Accessible from anywhere, both within the class and outside it.\n",
    "### Private: Accessible only within the class that defines the member.\n",
    "### Protected: Accessible within the class and its subclasses, but not directly from outside."
   ]
  },
  {
   "cell_type": "markdown",
   "id": "be6f6f71-b042-4c80-9703-ba9ecbeacd0b",
   "metadata": {},
   "source": [
    "# 5. What is the purpose of the \"super\" keyword in inheritance? Provide an example."
   ]
  },
  {
   "cell_type": "markdown",
   "id": "a0f9faf3-c119-46df-8509-1b557a46f0b0",
   "metadata": {},
   "source": [
    "## The super keyword in programming languages with object-oriented features, such as Python, is used to call a method from the parent class (superclass) within a subclass. It allows you to invoke the methods or constructors of the superclass, enabling you to reuse and extend the behavior of the parent class in the context of inheritance."
   ]
  },
  {
   "cell_type": "code",
   "execution_count": 14,
   "id": "c2397a7b-bb85-4ac8-9283-babf84cd2125",
   "metadata": {},
   "outputs": [],
   "source": [
    "# example\n",
    "class Animal:\n",
    "    def __init__(self, name):\n",
    "        self.name = name\n",
    "\n",
    "    def speak(self):\n",
    "        print(f\"{self.name} makes a sound\")\n",
    "\n",
    "class Dog(Animal):\n",
    "    def __init__(self, name, breed):\n",
    "        # Call the constructor of the parent class (Animal)\n",
    "        super().__init__(name)\n",
    "        self.breed = breed\n",
    "\n",
    "    def speak(self):\n",
    "        # Call the speak method of the parent class (Animal)\n",
    "        super().speak()\n",
    "        print(f\"{self.name} barks\")"
   ]
  },
  {
   "cell_type": "code",
   "execution_count": 15,
   "id": "7871f865-1f43-4f90-bec3-9347fa63d433",
   "metadata": {},
   "outputs": [],
   "source": [
    "dog=Dog(\"rocky\",\"lab\")"
   ]
  },
  {
   "cell_type": "code",
   "execution_count": 16,
   "id": "4ccae752-3be2-4ad9-9a9e-603461641ff2",
   "metadata": {},
   "outputs": [
    {
     "name": "stdout",
     "output_type": "stream",
     "text": [
      "rocky makes a sound\n",
      "rocky barks\n"
     ]
    }
   ],
   "source": [
    "dog.speak()"
   ]
  },
  {
   "cell_type": "markdown",
   "id": "165062f9-61cc-4a75-9a2c-67beb1093e49",
   "metadata": {},
   "source": [
    "# 6. Create a base class called \"Vehicle\" with attributes like \"make\", \"model\", and \"year\". Then, create a derived class called \"Car\" that inherits from \"Vehicle\" and adds an attribute called \"fuel_type\". Implement appropriate methods in both classes.\n"
   ]
  },
  {
   "cell_type": "code",
   "execution_count": 40,
   "id": "17062095-abb3-471d-8c5c-be9bcdd4bce5",
   "metadata": {},
   "outputs": [
    {
     "name": "stdout",
     "output_type": "stream",
     "text": [
      "2022 Toyota Camry\n",
      "2023 Honda Civic\n",
      "Fuel Type: Gasoline\n"
     ]
    }
   ],
   "source": [
    "class Vehicle:\n",
    "    def __init__(self, make, model, year):\n",
    "        self.make = make\n",
    "        self.model = model\n",
    "        self.year = year\n",
    "\n",
    "    def display_info(self):\n",
    "        print(f\"{self.year} {self.make} {self.model}\")\n",
    "\n",
    "class Car(Vehicle):\n",
    "    def __init__(self, make, model, year, fuel_type):\n",
    "        # Call the constructor of the parent class (Vehicle)\n",
    "        super().__init__(make, model, year)\n",
    "        self.fuel_type = fuel_type\n",
    "\n",
    "    def display_info(self):\n",
    "        # Call the display_info method of the parent class (Vehicle)\n",
    "        super().display_info()\n",
    "        print(f\"Fuel Type: {self.fuel_type}\")\n",
    "\n",
    "# Usage\n",
    "vehicle = Vehicle(\"Toyota\", \"Camry\", 2022)\n",
    "vehicle.display_info()\n",
    "\n",
    "car = Car(\"Honda\", \"Civic\", 2023, \"Gasoline\")\n",
    "car.display_info()\n"
   ]
  },
  {
   "cell_type": "markdown",
   "id": "c4604133-3148-43b8-826e-ffd8deae45b7",
   "metadata": {},
   "source": [
    "# 7. Create a base class called \"Employee\" with attributes like \"name\" and \"salary.\"Derive two classes, \"Manager\" and \"Developer,\" from \"Employee.\" Add an additional attribute called \"department\" for the \"Manager\" class and \"programming_language\" for the \"Developer\" class."
   ]
  },
  {
   "cell_type": "code",
   "execution_count": 40,
   "id": "be8dffea-bab1-4bf9-a0f7-4cf09840c348",
   "metadata": {},
   "outputs": [],
   "source": [
    "class Employee:\n",
    "    def __init__(self,name,salary):\n",
    "        self.name=name\n",
    "        self.salary=salary\n",
    "\n",
    "    def dis_employee(self):\n",
    "        print(f\"the employee name:{self.name} and the salary : {self.salary}\")\n",
    "\n",
    "class Manager(Employee):\n",
    "    def __init__(self,name,salary,department):\n",
    "        super().__init__(name,salary)\n",
    "        self.department=department\n",
    "\n",
    "    def dis_manager(self):\n",
    "        print(f\"The manager name: {self.name} ,the salary : {self.salary} and the department is {self.department}\")\n",
    "\n",
    "class Developer(Employee):\n",
    "    def __init__(self,name,salary,programming_language):\n",
    "        super().__init__(name,salary)\n",
    "        self.programming_language=programming_language\n",
    "\n",
    "    def dis_deve(self):\n",
    "        print(f\"The manager name: {self.name} ,the salary : {self.salary} and the programming language is {self.programming_language}\")\n"
   ]
  },
  {
   "cell_type": "code",
   "execution_count": 41,
   "id": "cba02cec-3fd8-40f1-8d03-778da50b3061",
   "metadata": {},
   "outputs": [],
   "source": [
    "emp=Employee(\"sanju\",600000)"
   ]
  },
  {
   "cell_type": "code",
   "execution_count": 42,
   "id": "ae3d8669-937c-46af-825d-1b6b3c1bba10",
   "metadata": {},
   "outputs": [
    {
     "data": {
      "text/plain": [
       "'sanju'"
      ]
     },
     "execution_count": 42,
     "metadata": {},
     "output_type": "execute_result"
    }
   ],
   "source": [
    "emp.name"
   ]
  },
  {
   "cell_type": "code",
   "execution_count": 43,
   "id": "3014493a-33c7-4598-98b4-658a75c4765f",
   "metadata": {},
   "outputs": [
    {
     "name": "stdout",
     "output_type": "stream",
     "text": [
      "the employee name:sanju and the salary : 600000\n"
     ]
    }
   ],
   "source": [
    "emp.dis_employee()"
   ]
  },
  {
   "cell_type": "code",
   "execution_count": 44,
   "id": "a643f83c-0aa0-490c-bcb6-f251a52ff10c",
   "metadata": {},
   "outputs": [],
   "source": [
    "man=Manager(\"shreya\",700000,\"data scientist\")"
   ]
  },
  {
   "cell_type": "code",
   "execution_count": 45,
   "id": "a9ac0ebf-6f31-400e-a823-a6448c5b6fa3",
   "metadata": {},
   "outputs": [
    {
     "name": "stdout",
     "output_type": "stream",
     "text": [
      "The manager name: shreya ,the salary : 700000 and the department is data scientist\n"
     ]
    }
   ],
   "source": [
    "man.dis_manager()"
   ]
  },
  {
   "cell_type": "code",
   "execution_count": 46,
   "id": "a5eb9c56-87de-4078-8d46-15a6ce20eb80",
   "metadata": {},
   "outputs": [],
   "source": [
    "dev=Developer(\"sanju\",400000,\"python\")"
   ]
  },
  {
   "cell_type": "code",
   "execution_count": 47,
   "id": "83f0be21-2f16-4e03-9f75-1f7fe2efd261",
   "metadata": {},
   "outputs": [
    {
     "name": "stdout",
     "output_type": "stream",
     "text": [
      "The manager name: sanju ,the salary : 400000 and the programming language is python\n"
     ]
    }
   ],
   "source": [
    "dev.dis_deve()"
   ]
  },
  {
   "cell_type": "markdown",
   "id": "0877d864-1c05-4542-be76-cc9ca7b7f3be",
   "metadata": {},
   "source": [
    "# 8. Design a base class called \"Shape\" with attributes like \"colour\" and \"border_width.\" Create derived classes, \"Rectangle\" and \"Circle,\" that inherit from \"Shape\" and add specific attributes like \"length\" and \"width\" for the \"Rectangle\" class and \"radius\" for the \"Circle\" class."
   ]
  },
  {
   "cell_type": "code",
   "execution_count": 12,
   "id": "fbd06f71-c61c-4ff8-acf5-67a62d6aca88",
   "metadata": {},
   "outputs": [],
   "source": [
    "class Shape:\n",
    "    def __init__(self,colour,border_width):\n",
    "        self.colour=colour\n",
    "        self.border_width=border_width\n",
    "\n",
    "class Rectangle(Shape):\n",
    "    def __init__(self,colour,border_width,length,width):\n",
    "        super().__init__(colour, border_width)\n",
    "        self.length=length\n",
    "        self.width=width\n",
    "\n",
    "class Circle(Shape):\n",
    "    def __init__(self,colour,border_width,radius):\n",
    "        super().__init__(colour,border_width)\n",
    "        self.radius=radius\n"
   ]
  },
  {
   "cell_type": "code",
   "execution_count": 13,
   "id": "49da2c91-ec03-4194-a506-d142e4770b77",
   "metadata": {},
   "outputs": [],
   "source": [
    "rectangle = Rectangle(colour=\"Blue\", border_width=2, length=5, width=3)\n",
    "circle = Circle(colour=\"Red\", border_width=1, radius=4)\n",
    "\n"
   ]
  },
  {
   "cell_type": "code",
   "execution_count": 14,
   "id": "ad33c93e-d05e-4c74-9ef8-d2c298fa74b2",
   "metadata": {},
   "outputs": [
    {
     "name": "stdout",
     "output_type": "stream",
     "text": [
      "Rectangle colour: Blue\n",
      "Rectangle border width: 2\n",
      "Rectangle length: 5\n",
      "Rectangle width: 3\n",
      "\n",
      "Circle colour: Red\n",
      "Circle border width: 1\n",
      "Circle radius: 4\n"
     ]
    }
   ],
   "source": [
    "print(\"Rectangle colour:\", rectangle.colour)\n",
    "print(\"Rectangle border width:\", rectangle.border_width)\n",
    "print(\"Rectangle length:\", rectangle.length)\n",
    "print(\"Rectangle width:\", rectangle.width)\n",
    "\n",
    "print(\"\\nCircle colour:\", circle.colour)\n",
    "print(\"Circle border width:\", circle.border_width)\n",
    "print(\"Circle radius:\", circle.radius)"
   ]
  },
  {
   "cell_type": "markdown",
   "id": "5b407540-34f4-448a-8b46-6be966aa0d55",
   "metadata": {},
   "source": [
    "# 9. Create a base class called \"Device\" with attributes like \"brand\" and \"model.\" Derive two classes, \"Phone\" and \"Tablet,\" from \"Device.\" Add specific attributes like \"screen_size\" for the \"Phone\" class and \"battery_capacity\" for the \"Tablet\" class."
   ]
  },
  {
   "cell_type": "code",
   "execution_count": 17,
   "id": "11aa860c-dc8c-4e93-a5ef-b08ce5ff3909",
   "metadata": {},
   "outputs": [],
   "source": [
    "class Device:\n",
    "    def __init__(self,brand,model):\n",
    "        self.brand=brand\n",
    "        self.model=model\n",
    "\n",
    "class Phone(Device):\n",
    "    def __init__(self,brand,model,screen_size):\n",
    "        super().__init__(brand,model)\n",
    "        self.screen_size=screen_size\n",
    "\n",
    "class Tablet(Device):\n",
    "    def __init__(self,brand,model,battery_capacity):\n",
    "        super().__init__(brand,model)\n",
    "        self.battery_capacity=battery_capacity\n",
    "    "
   ]
  },
  {
   "cell_type": "code",
   "execution_count": 18,
   "id": "75fc1a68-b5ee-411e-b78d-c8a29883f83e",
   "metadata": {},
   "outputs": [],
   "source": [
    "iphone = Phone(brand=\"Apple\", model=\"iPhone 13\", screen_size=6.1)\n",
    "ipad = Tablet(brand=\"Apple\", model=\"iPad Pro\", battery_capacity=10000)\n"
   ]
  },
  {
   "cell_type": "code",
   "execution_count": 19,
   "id": "f1dac265-cd79-4b41-a089-b7c5a35fdd3a",
   "metadata": {},
   "outputs": [
    {
     "name": "stdout",
     "output_type": "stream",
     "text": [
      "Phone brand: Apple\n",
      "Phone model: iPhone 13\n",
      "Phone screen size: 6.1\n",
      "\n",
      "Tablet brand: Apple\n",
      "Tablet model: iPad Pro\n",
      "Tablet battery capacity: 10000\n"
     ]
    }
   ],
   "source": [
    "print(\"Phone brand:\", iphone.brand)\n",
    "print(\"Phone model:\", iphone.model)\n",
    "print(\"Phone screen size:\", iphone.screen_size)\n",
    "\n",
    "print(\"\\nTablet brand:\", ipad.brand)\n",
    "print(\"Tablet model:\", ipad.model)\n",
    "print(\"Tablet battery capacity:\", ipad.battery_capacity)"
   ]
  },
  {
   "cell_type": "markdown",
   "id": "f0f7d482-4c2c-40e9-9703-e6510c522e6f",
   "metadata": {},
   "source": [
    "# 10. Create a base class called \"BankAccount\" with attributes like \"account_number\" and \"balance.\" Derive two classes, \"SavingsAccount\" and \"CheckingAccount,\" from \"BankAccount.\" Add specific methods like \"calculate_interest\" for the \"SavingsAccount\" class and \"deduct_fees\" for the \"CheckingAccount\" class."
   ]
  },
  {
   "cell_type": "code",
   "execution_count": 20,
   "id": "05fde6fb-8ef9-4ff7-b696-407421af7b77",
   "metadata": {},
   "outputs": [
    {
     "name": "stdout",
     "output_type": "stream",
     "text": [
      "Savings Account number: 123456\n",
      "Savings Account balance: 1000\n",
      "Interest earned: 20.0\n",
      "Updated Savings Account balance: 1020.0\n",
      "\n",
      "Checking Account number: 789012\n",
      "Checking Account balance: 500\n",
      "Fees of 10 deducted. Remaining balance: 490\n",
      "Updated Checking Account balance: 490\n"
     ]
    }
   ],
   "source": [
    "class BankAccount:\n",
    "    def __init__(self, account_number, balance):\n",
    "        self.account_number = account_number\n",
    "        self.balance = balance\n",
    "\n",
    "class SavingsAccount(BankAccount):\n",
    "    def __init__(self, account_number, balance, interest_rate):\n",
    "        super().__init__(account_number, balance)\n",
    "        self.interest_rate = interest_rate\n",
    "\n",
    "    def calculate_interest(self):\n",
    "        interest = self.balance * (self.interest_rate / 100)\n",
    "        self.balance += interest\n",
    "        return interest\n",
    "\n",
    "class CheckingAccount(BankAccount):\n",
    "    def __init__(self, account_number, balance, fee_amount):\n",
    "        super().__init__(account_number, balance)\n",
    "        self.fee_amount = fee_amount\n",
    "\n",
    "    def deduct_fees(self):\n",
    "        if self.balance < self.fee_amount:\n",
    "            print(\"Insufficient funds to deduct fees.\")\n",
    "        else:\n",
    "            self.balance -= self.fee_amount\n",
    "            print(f\"Fees of {self.fee_amount} deducted. Remaining balance: {self.balance}\")\n",
    "\n",
    "# Example usage:\n",
    "\n",
    "# Creating a savings account\n",
    "savings_account = SavingsAccount(account_number=\"123456\", balance=1000, interest_rate=2)\n",
    "\n",
    "# Creating a checking account\n",
    "checking_account = CheckingAccount(account_number=\"789012\", balance=500, fee_amount=10)\n",
    "\n",
    "# Accessing attributes and calling methods\n",
    "print(\"Savings Account number:\", savings_account.account_number)\n",
    "print(\"Savings Account balance:\", savings_account.balance)\n",
    "interest_earned = savings_account.calculate_interest()\n",
    "print(f\"Interest earned: {interest_earned}\")\n",
    "print(\"Updated Savings Account balance:\", savings_account.balance)\n",
    "\n",
    "print(\"\\nChecking Account number:\", checking_account.account_number)\n",
    "print(\"Checking Account balance:\", checking_account.balance)\n",
    "checking_account.deduct_fees()\n",
    "print(\"Updated Checking Account balance:\", checking_account.balance)\n"
   ]
  },
  {
   "cell_type": "code",
   "execution_count": null,
   "id": "7e353883-0784-4ea0-b510-f9b1831a7a58",
   "metadata": {},
   "outputs": [],
   "source": []
  }
 ],
 "metadata": {
  "kernelspec": {
   "display_name": "Python 3 (ipykernel)",
   "language": "python",
   "name": "python3"
  },
  "language_info": {
   "codemirror_mode": {
    "name": "ipython",
    "version": 3
   },
   "file_extension": ".py",
   "mimetype": "text/x-python",
   "name": "python",
   "nbconvert_exporter": "python",
   "pygments_lexer": "ipython3",
   "version": "3.12.0"
  }
 },
 "nbformat": 4,
 "nbformat_minor": 5
}
